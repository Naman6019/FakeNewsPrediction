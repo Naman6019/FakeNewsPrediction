{
  "nbformat": 4,
  "nbformat_minor": 0,
  "metadata": {
    "colab": {
      "provenance": [],
      "authorship_tag": "ABX9TyOmNEsR3JTnQA5iFqy/qSEz",
      "include_colab_link": true
    },
    "kernelspec": {
      "name": "python3",
      "display_name": "Python 3"
    },
    "language_info": {
      "name": "python"
    }
  },
  "cells": [
    {
      "cell_type": "markdown",
      "metadata": {
        "id": "view-in-github",
        "colab_type": "text"
      },
      "source": [
        "<a href=\"https://colab.research.google.com/github/Naman6019/FakeNewsPrediction/blob/main/FakeNewsPrediction.ipynb\" target=\"_parent\"><img src=\"https://colab.research.google.com/assets/colab-badge.svg\" alt=\"Open In Colab\"/></a>"
      ]
    },
    {
      "cell_type": "markdown",
      "source": [
        "TfidVectorizer is used to convert text into feature vectors\n",
        "\n",
        "re is useful for searching through a text\n",
        "\n",
        "stopwords are those words which dont add much value to the context of the text"
      ],
      "metadata": {
        "id": "MK6zuhq0beLG"
      }
    },
    {
      "cell_type": "code",
      "execution_count": 1,
      "metadata": {
        "id": "5Q9ht7KgXtZx"
      },
      "outputs": [],
      "source": [
        "import numpy as np\n",
        "import pandas as pd\n",
        "import re\n",
        "from nltk.corpus import stopwords\n",
        "from nltk.stem.porter import PorterStemmer\n",
        "from sklearn.feature_extraction.text import TfidfVectorizer\n",
        "from sklearn.model_selection import train_test_split\n",
        "from sklearn.linear_model import LogisticRegression\n",
        "from sklearn.metrics import accuracy_score"
      ]
    },
    {
      "cell_type": "code",
      "source": [
        "import nltk\n",
        "nltk.download('stopwords')"
      ],
      "metadata": {
        "colab": {
          "base_uri": "https://localhost:8080/"
        },
        "id": "FAQGsHUqb52m",
        "outputId": "51ce028a-7142-4f21-aa6e-5bbb7e045848"
      },
      "execution_count": 2,
      "outputs": [
        {
          "output_type": "stream",
          "name": "stderr",
          "text": [
            "[nltk_data] Downloading package stopwords to /root/nltk_data...\n",
            "[nltk_data]   Unzipping corpora/stopwords.zip.\n"
          ]
        },
        {
          "output_type": "execute_result",
          "data": {
            "text/plain": [
              "True"
            ]
          },
          "metadata": {},
          "execution_count": 2
        }
      ]
    },
    {
      "cell_type": "code",
      "source": [
        "print(stopwords.words('english'))"
      ],
      "metadata": {
        "colab": {
          "base_uri": "https://localhost:8080/"
        },
        "id": "KZmy_Nldf9MP",
        "outputId": "9240cbd3-e7fd-48f2-f1ee-e06d50bc24de"
      },
      "execution_count": 3,
      "outputs": [
        {
          "output_type": "stream",
          "name": "stdout",
          "text": [
            "['i', 'me', 'my', 'myself', 'we', 'our', 'ours', 'ourselves', 'you', \"you're\", \"you've\", \"you'll\", \"you'd\", 'your', 'yours', 'yourself', 'yourselves', 'he', 'him', 'his', 'himself', 'she', \"she's\", 'her', 'hers', 'herself', 'it', \"it's\", 'its', 'itself', 'they', 'them', 'their', 'theirs', 'themselves', 'what', 'which', 'who', 'whom', 'this', 'that', \"that'll\", 'these', 'those', 'am', 'is', 'are', 'was', 'were', 'be', 'been', 'being', 'have', 'has', 'had', 'having', 'do', 'does', 'did', 'doing', 'a', 'an', 'the', 'and', 'but', 'if', 'or', 'because', 'as', 'until', 'while', 'of', 'at', 'by', 'for', 'with', 'about', 'against', 'between', 'into', 'through', 'during', 'before', 'after', 'above', 'below', 'to', 'from', 'up', 'down', 'in', 'out', 'on', 'off', 'over', 'under', 'again', 'further', 'then', 'once', 'here', 'there', 'when', 'where', 'why', 'how', 'all', 'any', 'both', 'each', 'few', 'more', 'most', 'other', 'some', 'such', 'no', 'nor', 'not', 'only', 'own', 'same', 'so', 'than', 'too', 'very', 's', 't', 'can', 'will', 'just', 'don', \"don't\", 'should', \"should've\", 'now', 'd', 'll', 'm', 'o', 're', 've', 'y', 'ain', 'aren', \"aren't\", 'couldn', \"couldn't\", 'didn', \"didn't\", 'doesn', \"doesn't\", 'hadn', \"hadn't\", 'hasn', \"hasn't\", 'haven', \"haven't\", 'isn', \"isn't\", 'ma', 'mightn', \"mightn't\", 'mustn', \"mustn't\", 'needn', \"needn't\", 'shan', \"shan't\", 'shouldn', \"shouldn't\", 'wasn', \"wasn't\", 'weren', \"weren't\", 'won', \"won't\", 'wouldn', \"wouldn't\"]\n"
          ]
        }
      ]
    },
    {
      "cell_type": "markdown",
      "source": [
        "Data collection and Pre-processing"
      ],
      "metadata": {
        "id": "jGx3K76ogW6m"
      }
    },
    {
      "cell_type": "code",
      "source": [
        "news_train = pd.read_csv('/content/train.csv')"
      ],
      "metadata": {
        "id": "hMUxUNYIgGU3"
      },
      "execution_count": 4,
      "outputs": []
    },
    {
      "cell_type": "code",
      "source": [
        "news_train.shape"
      ],
      "metadata": {
        "colab": {
          "base_uri": "https://localhost:8080/"
        },
        "id": "R7-fzO-ngjgM",
        "outputId": "c3044c29-23a8-484e-f659-b07ef2959bf9"
      },
      "execution_count": 5,
      "outputs": [
        {
          "output_type": "execute_result",
          "data": {
            "text/plain": [
              "(20800, 5)"
            ]
          },
          "metadata": {},
          "execution_count": 5
        }
      ]
    },
    {
      "cell_type": "code",
      "source": [
        "news_test = pd.read_csv('/content/test.csv')"
      ],
      "metadata": {
        "id": "G2ZF4_Ttgtfv"
      },
      "execution_count": 6,
      "outputs": []
    },
    {
      "cell_type": "code",
      "source": [
        "news_train.head()"
      ],
      "metadata": {
        "colab": {
          "base_uri": "https://localhost:8080/",
          "height": 206
        },
        "id": "UmrNYsaug2jO",
        "outputId": "de786c5f-be78-491e-d5cf-77849f72d4d4"
      },
      "execution_count": 7,
      "outputs": [
        {
          "output_type": "execute_result",
          "data": {
            "text/plain": [
              "   id                                              title              author  \\\n",
              "0   0  House Dem Aide: We Didn’t Even See Comey’s Let...       Darrell Lucus   \n",
              "1   1  FLYNN: Hillary Clinton, Big Woman on Campus - ...     Daniel J. Flynn   \n",
              "2   2                  Why the Truth Might Get You Fired  Consortiumnews.com   \n",
              "3   3  15 Civilians Killed In Single US Airstrike Hav...     Jessica Purkiss   \n",
              "4   4  Iranian woman jailed for fictional unpublished...      Howard Portnoy   \n",
              "\n",
              "                                                text  label  \n",
              "0  House Dem Aide: We Didn’t Even See Comey’s Let...      1  \n",
              "1  Ever get the feeling your life circles the rou...      0  \n",
              "2  Why the Truth Might Get You Fired October 29, ...      1  \n",
              "3  Videos 15 Civilians Killed In Single US Airstr...      1  \n",
              "4  Print \\nAn Iranian woman has been sentenced to...      1  "
            ],
            "text/html": [
              "\n",
              "  <div id=\"df-c63570bc-3128-49b6-9115-65566fb04fd4\" class=\"colab-df-container\">\n",
              "    <div>\n",
              "<style scoped>\n",
              "    .dataframe tbody tr th:only-of-type {\n",
              "        vertical-align: middle;\n",
              "    }\n",
              "\n",
              "    .dataframe tbody tr th {\n",
              "        vertical-align: top;\n",
              "    }\n",
              "\n",
              "    .dataframe thead th {\n",
              "        text-align: right;\n",
              "    }\n",
              "</style>\n",
              "<table border=\"1\" class=\"dataframe\">\n",
              "  <thead>\n",
              "    <tr style=\"text-align: right;\">\n",
              "      <th></th>\n",
              "      <th>id</th>\n",
              "      <th>title</th>\n",
              "      <th>author</th>\n",
              "      <th>text</th>\n",
              "      <th>label</th>\n",
              "    </tr>\n",
              "  </thead>\n",
              "  <tbody>\n",
              "    <tr>\n",
              "      <th>0</th>\n",
              "      <td>0</td>\n",
              "      <td>House Dem Aide: We Didn’t Even See Comey’s Let...</td>\n",
              "      <td>Darrell Lucus</td>\n",
              "      <td>House Dem Aide: We Didn’t Even See Comey’s Let...</td>\n",
              "      <td>1</td>\n",
              "    </tr>\n",
              "    <tr>\n",
              "      <th>1</th>\n",
              "      <td>1</td>\n",
              "      <td>FLYNN: Hillary Clinton, Big Woman on Campus - ...</td>\n",
              "      <td>Daniel J. Flynn</td>\n",
              "      <td>Ever get the feeling your life circles the rou...</td>\n",
              "      <td>0</td>\n",
              "    </tr>\n",
              "    <tr>\n",
              "      <th>2</th>\n",
              "      <td>2</td>\n",
              "      <td>Why the Truth Might Get You Fired</td>\n",
              "      <td>Consortiumnews.com</td>\n",
              "      <td>Why the Truth Might Get You Fired October 29, ...</td>\n",
              "      <td>1</td>\n",
              "    </tr>\n",
              "    <tr>\n",
              "      <th>3</th>\n",
              "      <td>3</td>\n",
              "      <td>15 Civilians Killed In Single US Airstrike Hav...</td>\n",
              "      <td>Jessica Purkiss</td>\n",
              "      <td>Videos 15 Civilians Killed In Single US Airstr...</td>\n",
              "      <td>1</td>\n",
              "    </tr>\n",
              "    <tr>\n",
              "      <th>4</th>\n",
              "      <td>4</td>\n",
              "      <td>Iranian woman jailed for fictional unpublished...</td>\n",
              "      <td>Howard Portnoy</td>\n",
              "      <td>Print \\nAn Iranian woman has been sentenced to...</td>\n",
              "      <td>1</td>\n",
              "    </tr>\n",
              "  </tbody>\n",
              "</table>\n",
              "</div>\n",
              "    <div class=\"colab-df-buttons\">\n",
              "\n",
              "  <div class=\"colab-df-container\">\n",
              "    <button class=\"colab-df-convert\" onclick=\"convertToInteractive('df-c63570bc-3128-49b6-9115-65566fb04fd4')\"\n",
              "            title=\"Convert this dataframe to an interactive table.\"\n",
              "            style=\"display:none;\">\n",
              "\n",
              "  <svg xmlns=\"http://www.w3.org/2000/svg\" height=\"24px\" viewBox=\"0 -960 960 960\">\n",
              "    <path d=\"M120-120v-720h720v720H120Zm60-500h600v-160H180v160Zm220 220h160v-160H400v160Zm0 220h160v-160H400v160ZM180-400h160v-160H180v160Zm440 0h160v-160H620v160ZM180-180h160v-160H180v160Zm440 0h160v-160H620v160Z\"/>\n",
              "  </svg>\n",
              "    </button>\n",
              "\n",
              "  <style>\n",
              "    .colab-df-container {\n",
              "      display:flex;\n",
              "      gap: 12px;\n",
              "    }\n",
              "\n",
              "    .colab-df-convert {\n",
              "      background-color: #E8F0FE;\n",
              "      border: none;\n",
              "      border-radius: 50%;\n",
              "      cursor: pointer;\n",
              "      display: none;\n",
              "      fill: #1967D2;\n",
              "      height: 32px;\n",
              "      padding: 0 0 0 0;\n",
              "      width: 32px;\n",
              "    }\n",
              "\n",
              "    .colab-df-convert:hover {\n",
              "      background-color: #E2EBFA;\n",
              "      box-shadow: 0px 1px 2px rgba(60, 64, 67, 0.3), 0px 1px 3px 1px rgba(60, 64, 67, 0.15);\n",
              "      fill: #174EA6;\n",
              "    }\n",
              "\n",
              "    .colab-df-buttons div {\n",
              "      margin-bottom: 4px;\n",
              "    }\n",
              "\n",
              "    [theme=dark] .colab-df-convert {\n",
              "      background-color: #3B4455;\n",
              "      fill: #D2E3FC;\n",
              "    }\n",
              "\n",
              "    [theme=dark] .colab-df-convert:hover {\n",
              "      background-color: #434B5C;\n",
              "      box-shadow: 0px 1px 3px 1px rgba(0, 0, 0, 0.15);\n",
              "      filter: drop-shadow(0px 1px 2px rgba(0, 0, 0, 0.3));\n",
              "      fill: #FFFFFF;\n",
              "    }\n",
              "  </style>\n",
              "\n",
              "    <script>\n",
              "      const buttonEl =\n",
              "        document.querySelector('#df-c63570bc-3128-49b6-9115-65566fb04fd4 button.colab-df-convert');\n",
              "      buttonEl.style.display =\n",
              "        google.colab.kernel.accessAllowed ? 'block' : 'none';\n",
              "\n",
              "      async function convertToInteractive(key) {\n",
              "        const element = document.querySelector('#df-c63570bc-3128-49b6-9115-65566fb04fd4');\n",
              "        const dataTable =\n",
              "          await google.colab.kernel.invokeFunction('convertToInteractive',\n",
              "                                                    [key], {});\n",
              "        if (!dataTable) return;\n",
              "\n",
              "        const docLinkHtml = 'Like what you see? Visit the ' +\n",
              "          '<a target=\"_blank\" href=https://colab.research.google.com/notebooks/data_table.ipynb>data table notebook</a>'\n",
              "          + ' to learn more about interactive tables.';\n",
              "        element.innerHTML = '';\n",
              "        dataTable['output_type'] = 'display_data';\n",
              "        await google.colab.output.renderOutput(dataTable, element);\n",
              "        const docLink = document.createElement('div');\n",
              "        docLink.innerHTML = docLinkHtml;\n",
              "        element.appendChild(docLink);\n",
              "      }\n",
              "    </script>\n",
              "  </div>\n",
              "\n",
              "\n",
              "<div id=\"df-20499d51-1cb1-4e6c-9bf6-a691a831e8de\">\n",
              "  <button class=\"colab-df-quickchart\" onclick=\"quickchart('df-20499d51-1cb1-4e6c-9bf6-a691a831e8de')\"\n",
              "            title=\"Suggest charts\"\n",
              "            style=\"display:none;\">\n",
              "\n",
              "<svg xmlns=\"http://www.w3.org/2000/svg\" height=\"24px\"viewBox=\"0 0 24 24\"\n",
              "     width=\"24px\">\n",
              "    <g>\n",
              "        <path d=\"M19 3H5c-1.1 0-2 .9-2 2v14c0 1.1.9 2 2 2h14c1.1 0 2-.9 2-2V5c0-1.1-.9-2-2-2zM9 17H7v-7h2v7zm4 0h-2V7h2v10zm4 0h-2v-4h2v4z\"/>\n",
              "    </g>\n",
              "</svg>\n",
              "  </button>\n",
              "\n",
              "<style>\n",
              "  .colab-df-quickchart {\n",
              "      --bg-color: #E8F0FE;\n",
              "      --fill-color: #1967D2;\n",
              "      --hover-bg-color: #E2EBFA;\n",
              "      --hover-fill-color: #174EA6;\n",
              "      --disabled-fill-color: #AAA;\n",
              "      --disabled-bg-color: #DDD;\n",
              "  }\n",
              "\n",
              "  [theme=dark] .colab-df-quickchart {\n",
              "      --bg-color: #3B4455;\n",
              "      --fill-color: #D2E3FC;\n",
              "      --hover-bg-color: #434B5C;\n",
              "      --hover-fill-color: #FFFFFF;\n",
              "      --disabled-bg-color: #3B4455;\n",
              "      --disabled-fill-color: #666;\n",
              "  }\n",
              "\n",
              "  .colab-df-quickchart {\n",
              "    background-color: var(--bg-color);\n",
              "    border: none;\n",
              "    border-radius: 50%;\n",
              "    cursor: pointer;\n",
              "    display: none;\n",
              "    fill: var(--fill-color);\n",
              "    height: 32px;\n",
              "    padding: 0;\n",
              "    width: 32px;\n",
              "  }\n",
              "\n",
              "  .colab-df-quickchart:hover {\n",
              "    background-color: var(--hover-bg-color);\n",
              "    box-shadow: 0 1px 2px rgba(60, 64, 67, 0.3), 0 1px 3px 1px rgba(60, 64, 67, 0.15);\n",
              "    fill: var(--button-hover-fill-color);\n",
              "  }\n",
              "\n",
              "  .colab-df-quickchart-complete:disabled,\n",
              "  .colab-df-quickchart-complete:disabled:hover {\n",
              "    background-color: var(--disabled-bg-color);\n",
              "    fill: var(--disabled-fill-color);\n",
              "    box-shadow: none;\n",
              "  }\n",
              "\n",
              "  .colab-df-spinner {\n",
              "    border: 2px solid var(--fill-color);\n",
              "    border-color: transparent;\n",
              "    border-bottom-color: var(--fill-color);\n",
              "    animation:\n",
              "      spin 1s steps(1) infinite;\n",
              "  }\n",
              "\n",
              "  @keyframes spin {\n",
              "    0% {\n",
              "      border-color: transparent;\n",
              "      border-bottom-color: var(--fill-color);\n",
              "      border-left-color: var(--fill-color);\n",
              "    }\n",
              "    20% {\n",
              "      border-color: transparent;\n",
              "      border-left-color: var(--fill-color);\n",
              "      border-top-color: var(--fill-color);\n",
              "    }\n",
              "    30% {\n",
              "      border-color: transparent;\n",
              "      border-left-color: var(--fill-color);\n",
              "      border-top-color: var(--fill-color);\n",
              "      border-right-color: var(--fill-color);\n",
              "    }\n",
              "    40% {\n",
              "      border-color: transparent;\n",
              "      border-right-color: var(--fill-color);\n",
              "      border-top-color: var(--fill-color);\n",
              "    }\n",
              "    60% {\n",
              "      border-color: transparent;\n",
              "      border-right-color: var(--fill-color);\n",
              "    }\n",
              "    80% {\n",
              "      border-color: transparent;\n",
              "      border-right-color: var(--fill-color);\n",
              "      border-bottom-color: var(--fill-color);\n",
              "    }\n",
              "    90% {\n",
              "      border-color: transparent;\n",
              "      border-bottom-color: var(--fill-color);\n",
              "    }\n",
              "  }\n",
              "</style>\n",
              "\n",
              "  <script>\n",
              "    async function quickchart(key) {\n",
              "      const quickchartButtonEl =\n",
              "        document.querySelector('#' + key + ' button');\n",
              "      quickchartButtonEl.disabled = true;  // To prevent multiple clicks.\n",
              "      quickchartButtonEl.classList.add('colab-df-spinner');\n",
              "      try {\n",
              "        const charts = await google.colab.kernel.invokeFunction(\n",
              "            'suggestCharts', [key], {});\n",
              "      } catch (error) {\n",
              "        console.error('Error during call to suggestCharts:', error);\n",
              "      }\n",
              "      quickchartButtonEl.classList.remove('colab-df-spinner');\n",
              "      quickchartButtonEl.classList.add('colab-df-quickchart-complete');\n",
              "    }\n",
              "    (() => {\n",
              "      let quickchartButtonEl =\n",
              "        document.querySelector('#df-20499d51-1cb1-4e6c-9bf6-a691a831e8de button');\n",
              "      quickchartButtonEl.style.display =\n",
              "        google.colab.kernel.accessAllowed ? 'block' : 'none';\n",
              "    })();\n",
              "  </script>\n",
              "</div>\n",
              "\n",
              "    </div>\n",
              "  </div>\n"
            ],
            "application/vnd.google.colaboratory.intrinsic+json": {
              "type": "dataframe",
              "variable_name": "news_train",
              "summary": "{\n  \"name\": \"news_train\",\n  \"rows\": 20800,\n  \"fields\": [\n    {\n      \"column\": \"id\",\n      \"properties\": {\n        \"dtype\": \"number\",\n        \"std\": 6004,\n        \"min\": 0,\n        \"max\": 20799,\n        \"num_unique_values\": 20800,\n        \"samples\": [\n          14649,\n          9231,\n          6473\n        ],\n        \"semantic_type\": \"\",\n        \"description\": \"\"\n      }\n    },\n    {\n      \"column\": \"title\",\n      \"properties\": {\n        \"dtype\": \"string\",\n        \"num_unique_values\": 19803,\n        \"samples\": [\n          \"Florida Republicans Voting for Hillary Clinton \\u00b7 Guardian Liberty Voice\",\n          \"\\u2018Weekend Warriors\\u2019 Show Survival Benefits - The New York Times\",\n          \"Part 6, Democratic Network Money: Commons Money that Works for Us, Instead of Us Working for It\"\n        ],\n        \"semantic_type\": \"\",\n        \"description\": \"\"\n      }\n    },\n    {\n      \"column\": \"author\",\n      \"properties\": {\n        \"dtype\": \"category\",\n        \"num_unique_values\": 4201,\n        \"samples\": [\n          \"AARGH63\",\n          \"Dave Kehr\",\n          \"Patrick Healy\"\n        ],\n        \"semantic_type\": \"\",\n        \"description\": \"\"\n      }\n    },\n    {\n      \"column\": \"text\",\n      \"properties\": {\n        \"dtype\": \"string\",\n        \"num_unique_values\": 20386,\n        \"samples\": [\n          \"Multan a un ultrasur por lanzar a un jugador del Bar\\u00e7a al campo durante el partido Madrid-Legia EL PARTIDO SE CONSIDERABA DE ALTO RIESGO PARA LOS JUGADORES DEL BARCELONA Real Madrid \\nUn jugador barcelonista golpe\\u00f3 a varios jugadores durante el encuentro de la Champions que tuvo lugar ayer entre el Real Madrid y el Legia Varsovia despu\\u00e9s de ser arrojado desde la grada por un hincha madridista. \\nEl portero del Legia, muy molesto, intent\\u00f3 devolver el jugador a las gradas de una patada y se encar\\u00f3 con los Ultrasur, que ya preparaban a otro jugador para echarlo al campo y entorpecer el encuentro. En esta ocasi\\u00f3n pretend\\u00edan prenderlo con un mechero antes de lanzarlo al c\\u00e9sped. \\nLas autoridades han vuelto a pedir a los aficionados que dejen de lanzar cosas al campo como botellas, monedas y jugadores del Barcelona. El dispositivo de seguridad no puedo hacer nada por evitar que algunos hinchas introdujeran a jugadores barcelonistas a la grada, pues los llevaban camuflados dentro de bocadillos de gran tama\\u00f1o. \\nEl partido pudo ser reanudado cuando el \\u00e1rbitro apart\\u00f3 a un rinc\\u00f3n del c\\u00e9sped al jugador barcelonista.\",\n          \"Written by Jacob G. Hornberger   As US officials continue to accuse Russia of meddling with the US presidential election, an accusation that they have provided no evidence whatsoever to support, let\\u2019s review some of the US government\\u2019s history of meddling with elections in others countries.1. In 1951, the democratically elected parliament of Iran elected a man named Mohammad Mossadegh to be Iran\\u2019s prime minister. Mossadegh angered British Empire officials by nationalizing British oil interests in the country.British officials then turned to the CIA for assistance. In 1953, the CIA secretly fomented a violent coup in Iran, which succeeded in ousting Mossadegh from power and making the Shah of Iran the supreme unelected dictator of the country.To fortify the Shah\\u2019s dictatorial hold on power, the CIA helped organize and train the his domestic police force, the Savak, which was essentially a combination of the CIA, the NSA, and the military. Part of the CIA\\u2019s training involved teaching Savak agents the art of torture.For the next 26 years, the Iranian people suffered under one of the most brutal and tyrannical dictatorships in the world, one that US officials fully supported and called an ally and friend of the United States.In 1979, Iranians successfully revolted against the Shah\\u2019s regime and ousted him from power. One result was not a restoration of the democratic system that had elected Mossadegh but rather another brutal dictatorship, this time a religious one. Another result is the bad relations between the Iran and US governments that continues to exist today.2. In 1951, the Guatemalan people democratically elected a man named Jacobo Arbenz to be their president. Arbenz, however, was not satisfactory to US officials, especially the national-security branch of the government, specifically the Pentagon and the CIA. The reason that US officials opposed Arbenz was that he was a socialist, and US officials considered a socialist president of Guatemala to be a threat to \\u201cnational security\\u201d here in the United States.In 1954 \\u2014 one year after the coup in Iran, the CIA fomented a violent military coup that succeeded in removing Arbenz from power and replacing him with one of the most brutal unelected military dictators in Latin American history, a man named Carlos Castillo Armas. The CIA had a kill list prepared for the coup, which Arbenz was able to escape by fleeing the country before Castillo was able to get him. The CIA\\u2019s destruction of Guatemala\\u2019s democratic system threw the nation into a 30-year civil war that ended up killing millions of Guatemalan people, especially many of the poor.3. In 1960 a man named Patrice Lamumba was elected Congo\\u2019s first prime minister after independence from Belgium. Lamumba spoke out against Western imperialism and refused to take sides in the Cold War, which caused the CIA to conclude that he was a threat to \\u201cnational security.\\u201d The CIA orchestrated the assassination of Lamumba, which ended up taking place on January 17, 1961, just three days before President Kennedy, who liked Lamumba and who would have ordered the CIA to stand down, was to be sworn into office.4. In 1970 a man named Salvador Allende received a plurality of votes in the presidential election in Chile. Pursuant to the Chilean constitution, the election was thrown into the national congress. President Richard Nixon, his national-security team, the Pentagon, and the CIA concluded that because Allende believed in communism and socialism, he posed a grave threat to \\u201cnational security\\u201d here in the United States. The CIA attempted to bribe members of the congress to vote against Allende. It also orchestrated the kidnapping of the head of Chile\\u2019s armed forces, Gen Rene Schneider, who opposed a US military coup in his country, especially since a coup would violate the country\\u2019s constitution. The kidnapping attempt on Schneider left him dead.The CIA then fomented a coup that took place on 9/11 1973 that violently ousted Allende from power and left him dead. Replacing him was army Gen. Augusto Pinochet, one of the most brutal unelected military dictators in history. By the time Pinochet\\u2019s 17-year reign of military terror came to an end in 1990, he and his CIA-supported goons had incarcerated, raped, tortured, or killed tens of thousands of innocent people \\u2014 that is, people whose only \\u201ccrime\\u201d was believing in socialism \\u2014 with the full support of the CIA, Pentagon, Nixon, and his \\u201cnational security\\u201d team.Of course, there are also the more recent support of regime-change operations that ousted democratically elected presidents that the US government disapproved of, such as in Ukraine and Egypt.And then there is the long list of countries where unelected dictators were targeted for regime change by the US national security state and, where successful, replaced with a brutal unelected pro-US dictator. Cuba, Indonesia, Iraq, Libya, and Syria all come to mind.US officials need to keep in mind that when they point their accusatory index finger at Russia for supposedly meddling in the US presidential election, US officials have, at the same time, three fingers pointing back at themselves. Reprinted with permission from the Future of Freedom Foundation . Related\",\n          \"When hearing of an establishment called the Black and Blue Steakhouse, one could reasonably surmise that some, or at the very least one, extremely tough person could be found somewhere in there. Well, the three terrorists who attacked London Bridge over the weekend found the Black and Blue Steakhouse, and they found the toughest man in the house. [Or, maybe more to the point, he found them.  Roy Larner, 47, is a huge fan of the South East London soccer team Millwall F. C. The team is known as the Lions, and when   terrorists entered the Black and Blue to kill innocent people, Larner let them know who is the true king of the jungle. After the terrorists entered, with obvious bad intentions, Larner sprang into action: \\u201cLike an idiot I shouted back at them. I thought, \\u2018I need to take the p*** out of these b*****s.\\u2019 \\u201cI took a few steps towards them and said, \\u2018F*** you, I\\u2019m Millwall.\\u2019 So they started attacking me. \\u201cI stood in front of them trying to fight them off. Everyone else ran to the back. I was on my own against all three of them, that\\u2019s why I got hurt so much. It was just me, trying to grab them with my bare hands and hold on. I was swinging. \\u201cI got stabbed and sliced eight times. They got me in my head, chest and both hands. There was blood everywhere. \\u201cThey were saying, \\u2018Islam, Islam!\\u2019 I said again, \\u2018F*** you, I\\u2019m Millwall!\\u2019 \\u201cIt was the worst thing I could have done as they carried on attacking me. \\u201cLuckily, none of the blows were straight at me or I\\u2019d be dead. \\u201d A petition has begun, with the aim of awarding Larner with the George Cross for bravery. The award is the second highest commendation granted by Great Britain. Looking at his scars, it\\u2019s really hard to imagine that he won\\u2019t get it. If Millwall is looking for a new slogan, they may have found it. \\u201cF*** you, I\\u2019m Millwall!\\u201d has a nice ring to it. Follow Dylan Gwinn on Twitter: @themightygwinn\"\n        ],\n        \"semantic_type\": \"\",\n        \"description\": \"\"\n      }\n    },\n    {\n      \"column\": \"label\",\n      \"properties\": {\n        \"dtype\": \"number\",\n        \"std\": 0,\n        \"min\": 0,\n        \"max\": 1,\n        \"num_unique_values\": 2,\n        \"samples\": [\n          0,\n          1\n        ],\n        \"semantic_type\": \"\",\n        \"description\": \"\"\n      }\n    }\n  ]\n}"
            }
          },
          "metadata": {},
          "execution_count": 7
        }
      ]
    },
    {
      "cell_type": "code",
      "source": [
        "news_test.head()"
      ],
      "metadata": {
        "colab": {
          "base_uri": "https://localhost:8080/",
          "height": 206
        },
        "id": "QUsen-c2g0I7",
        "outputId": "1bb0396b-8d1f-486f-eaa5-185354ffa226"
      },
      "execution_count": 8,
      "outputs": [
        {
          "output_type": "execute_result",
          "data": {
            "text/plain": [
              "      id                                              title  \\\n",
              "0  20800  Specter of Trump Loosens Tongues, if Not Purse...   \n",
              "1  20801  Russian warships ready to strike terrorists ne...   \n",
              "2  20802  #NoDAPL: Native American Leaders Vow to Stay A...   \n",
              "3  20803  Tim Tebow Will Attempt Another Comeback, This ...   \n",
              "4  20804                    Keiser Report: Meme Wars (E995)   \n",
              "\n",
              "                    author                                               text  \n",
              "0         David Streitfeld  PALO ALTO, Calif.  —   After years of scorning...  \n",
              "1                      NaN  Russian warships ready to strike terrorists ne...  \n",
              "2            Common Dreams  Videos #NoDAPL: Native American Leaders Vow to...  \n",
              "3            Daniel Victor  If at first you don’t succeed, try a different...  \n",
              "4  Truth Broadcast Network  42 mins ago 1 Views 0 Comments 0 Likes 'For th...  "
            ],
            "text/html": [
              "\n",
              "  <div id=\"df-f77466a3-922a-4f1c-9f3d-1468c1f0adf2\" class=\"colab-df-container\">\n",
              "    <div>\n",
              "<style scoped>\n",
              "    .dataframe tbody tr th:only-of-type {\n",
              "        vertical-align: middle;\n",
              "    }\n",
              "\n",
              "    .dataframe tbody tr th {\n",
              "        vertical-align: top;\n",
              "    }\n",
              "\n",
              "    .dataframe thead th {\n",
              "        text-align: right;\n",
              "    }\n",
              "</style>\n",
              "<table border=\"1\" class=\"dataframe\">\n",
              "  <thead>\n",
              "    <tr style=\"text-align: right;\">\n",
              "      <th></th>\n",
              "      <th>id</th>\n",
              "      <th>title</th>\n",
              "      <th>author</th>\n",
              "      <th>text</th>\n",
              "    </tr>\n",
              "  </thead>\n",
              "  <tbody>\n",
              "    <tr>\n",
              "      <th>0</th>\n",
              "      <td>20800</td>\n",
              "      <td>Specter of Trump Loosens Tongues, if Not Purse...</td>\n",
              "      <td>David Streitfeld</td>\n",
              "      <td>PALO ALTO, Calif.  —   After years of scorning...</td>\n",
              "    </tr>\n",
              "    <tr>\n",
              "      <th>1</th>\n",
              "      <td>20801</td>\n",
              "      <td>Russian warships ready to strike terrorists ne...</td>\n",
              "      <td>NaN</td>\n",
              "      <td>Russian warships ready to strike terrorists ne...</td>\n",
              "    </tr>\n",
              "    <tr>\n",
              "      <th>2</th>\n",
              "      <td>20802</td>\n",
              "      <td>#NoDAPL: Native American Leaders Vow to Stay A...</td>\n",
              "      <td>Common Dreams</td>\n",
              "      <td>Videos #NoDAPL: Native American Leaders Vow to...</td>\n",
              "    </tr>\n",
              "    <tr>\n",
              "      <th>3</th>\n",
              "      <td>20803</td>\n",
              "      <td>Tim Tebow Will Attempt Another Comeback, This ...</td>\n",
              "      <td>Daniel Victor</td>\n",
              "      <td>If at first you don’t succeed, try a different...</td>\n",
              "    </tr>\n",
              "    <tr>\n",
              "      <th>4</th>\n",
              "      <td>20804</td>\n",
              "      <td>Keiser Report: Meme Wars (E995)</td>\n",
              "      <td>Truth Broadcast Network</td>\n",
              "      <td>42 mins ago 1 Views 0 Comments 0 Likes 'For th...</td>\n",
              "    </tr>\n",
              "  </tbody>\n",
              "</table>\n",
              "</div>\n",
              "    <div class=\"colab-df-buttons\">\n",
              "\n",
              "  <div class=\"colab-df-container\">\n",
              "    <button class=\"colab-df-convert\" onclick=\"convertToInteractive('df-f77466a3-922a-4f1c-9f3d-1468c1f0adf2')\"\n",
              "            title=\"Convert this dataframe to an interactive table.\"\n",
              "            style=\"display:none;\">\n",
              "\n",
              "  <svg xmlns=\"http://www.w3.org/2000/svg\" height=\"24px\" viewBox=\"0 -960 960 960\">\n",
              "    <path d=\"M120-120v-720h720v720H120Zm60-500h600v-160H180v160Zm220 220h160v-160H400v160Zm0 220h160v-160H400v160ZM180-400h160v-160H180v160Zm440 0h160v-160H620v160ZM180-180h160v-160H180v160Zm440 0h160v-160H620v160Z\"/>\n",
              "  </svg>\n",
              "    </button>\n",
              "\n",
              "  <style>\n",
              "    .colab-df-container {\n",
              "      display:flex;\n",
              "      gap: 12px;\n",
              "    }\n",
              "\n",
              "    .colab-df-convert {\n",
              "      background-color: #E8F0FE;\n",
              "      border: none;\n",
              "      border-radius: 50%;\n",
              "      cursor: pointer;\n",
              "      display: none;\n",
              "      fill: #1967D2;\n",
              "      height: 32px;\n",
              "      padding: 0 0 0 0;\n",
              "      width: 32px;\n",
              "    }\n",
              "\n",
              "    .colab-df-convert:hover {\n",
              "      background-color: #E2EBFA;\n",
              "      box-shadow: 0px 1px 2px rgba(60, 64, 67, 0.3), 0px 1px 3px 1px rgba(60, 64, 67, 0.15);\n",
              "      fill: #174EA6;\n",
              "    }\n",
              "\n",
              "    .colab-df-buttons div {\n",
              "      margin-bottom: 4px;\n",
              "    }\n",
              "\n",
              "    [theme=dark] .colab-df-convert {\n",
              "      background-color: #3B4455;\n",
              "      fill: #D2E3FC;\n",
              "    }\n",
              "\n",
              "    [theme=dark] .colab-df-convert:hover {\n",
              "      background-color: #434B5C;\n",
              "      box-shadow: 0px 1px 3px 1px rgba(0, 0, 0, 0.15);\n",
              "      filter: drop-shadow(0px 1px 2px rgba(0, 0, 0, 0.3));\n",
              "      fill: #FFFFFF;\n",
              "    }\n",
              "  </style>\n",
              "\n",
              "    <script>\n",
              "      const buttonEl =\n",
              "        document.querySelector('#df-f77466a3-922a-4f1c-9f3d-1468c1f0adf2 button.colab-df-convert');\n",
              "      buttonEl.style.display =\n",
              "        google.colab.kernel.accessAllowed ? 'block' : 'none';\n",
              "\n",
              "      async function convertToInteractive(key) {\n",
              "        const element = document.querySelector('#df-f77466a3-922a-4f1c-9f3d-1468c1f0adf2');\n",
              "        const dataTable =\n",
              "          await google.colab.kernel.invokeFunction('convertToInteractive',\n",
              "                                                    [key], {});\n",
              "        if (!dataTable) return;\n",
              "\n",
              "        const docLinkHtml = 'Like what you see? Visit the ' +\n",
              "          '<a target=\"_blank\" href=https://colab.research.google.com/notebooks/data_table.ipynb>data table notebook</a>'\n",
              "          + ' to learn more about interactive tables.';\n",
              "        element.innerHTML = '';\n",
              "        dataTable['output_type'] = 'display_data';\n",
              "        await google.colab.output.renderOutput(dataTable, element);\n",
              "        const docLink = document.createElement('div');\n",
              "        docLink.innerHTML = docLinkHtml;\n",
              "        element.appendChild(docLink);\n",
              "      }\n",
              "    </script>\n",
              "  </div>\n",
              "\n",
              "\n",
              "<div id=\"df-184b1e00-1a84-4a0f-8ff9-ec3c6cd2a015\">\n",
              "  <button class=\"colab-df-quickchart\" onclick=\"quickchart('df-184b1e00-1a84-4a0f-8ff9-ec3c6cd2a015')\"\n",
              "            title=\"Suggest charts\"\n",
              "            style=\"display:none;\">\n",
              "\n",
              "<svg xmlns=\"http://www.w3.org/2000/svg\" height=\"24px\"viewBox=\"0 0 24 24\"\n",
              "     width=\"24px\">\n",
              "    <g>\n",
              "        <path d=\"M19 3H5c-1.1 0-2 .9-2 2v14c0 1.1.9 2 2 2h14c1.1 0 2-.9 2-2V5c0-1.1-.9-2-2-2zM9 17H7v-7h2v7zm4 0h-2V7h2v10zm4 0h-2v-4h2v4z\"/>\n",
              "    </g>\n",
              "</svg>\n",
              "  </button>\n",
              "\n",
              "<style>\n",
              "  .colab-df-quickchart {\n",
              "      --bg-color: #E8F0FE;\n",
              "      --fill-color: #1967D2;\n",
              "      --hover-bg-color: #E2EBFA;\n",
              "      --hover-fill-color: #174EA6;\n",
              "      --disabled-fill-color: #AAA;\n",
              "      --disabled-bg-color: #DDD;\n",
              "  }\n",
              "\n",
              "  [theme=dark] .colab-df-quickchart {\n",
              "      --bg-color: #3B4455;\n",
              "      --fill-color: #D2E3FC;\n",
              "      --hover-bg-color: #434B5C;\n",
              "      --hover-fill-color: #FFFFFF;\n",
              "      --disabled-bg-color: #3B4455;\n",
              "      --disabled-fill-color: #666;\n",
              "  }\n",
              "\n",
              "  .colab-df-quickchart {\n",
              "    background-color: var(--bg-color);\n",
              "    border: none;\n",
              "    border-radius: 50%;\n",
              "    cursor: pointer;\n",
              "    display: none;\n",
              "    fill: var(--fill-color);\n",
              "    height: 32px;\n",
              "    padding: 0;\n",
              "    width: 32px;\n",
              "  }\n",
              "\n",
              "  .colab-df-quickchart:hover {\n",
              "    background-color: var(--hover-bg-color);\n",
              "    box-shadow: 0 1px 2px rgba(60, 64, 67, 0.3), 0 1px 3px 1px rgba(60, 64, 67, 0.15);\n",
              "    fill: var(--button-hover-fill-color);\n",
              "  }\n",
              "\n",
              "  .colab-df-quickchart-complete:disabled,\n",
              "  .colab-df-quickchart-complete:disabled:hover {\n",
              "    background-color: var(--disabled-bg-color);\n",
              "    fill: var(--disabled-fill-color);\n",
              "    box-shadow: none;\n",
              "  }\n",
              "\n",
              "  .colab-df-spinner {\n",
              "    border: 2px solid var(--fill-color);\n",
              "    border-color: transparent;\n",
              "    border-bottom-color: var(--fill-color);\n",
              "    animation:\n",
              "      spin 1s steps(1) infinite;\n",
              "  }\n",
              "\n",
              "  @keyframes spin {\n",
              "    0% {\n",
              "      border-color: transparent;\n",
              "      border-bottom-color: var(--fill-color);\n",
              "      border-left-color: var(--fill-color);\n",
              "    }\n",
              "    20% {\n",
              "      border-color: transparent;\n",
              "      border-left-color: var(--fill-color);\n",
              "      border-top-color: var(--fill-color);\n",
              "    }\n",
              "    30% {\n",
              "      border-color: transparent;\n",
              "      border-left-color: var(--fill-color);\n",
              "      border-top-color: var(--fill-color);\n",
              "      border-right-color: var(--fill-color);\n",
              "    }\n",
              "    40% {\n",
              "      border-color: transparent;\n",
              "      border-right-color: var(--fill-color);\n",
              "      border-top-color: var(--fill-color);\n",
              "    }\n",
              "    60% {\n",
              "      border-color: transparent;\n",
              "      border-right-color: var(--fill-color);\n",
              "    }\n",
              "    80% {\n",
              "      border-color: transparent;\n",
              "      border-right-color: var(--fill-color);\n",
              "      border-bottom-color: var(--fill-color);\n",
              "    }\n",
              "    90% {\n",
              "      border-color: transparent;\n",
              "      border-bottom-color: var(--fill-color);\n",
              "    }\n",
              "  }\n",
              "</style>\n",
              "\n",
              "  <script>\n",
              "    async function quickchart(key) {\n",
              "      const quickchartButtonEl =\n",
              "        document.querySelector('#' + key + ' button');\n",
              "      quickchartButtonEl.disabled = true;  // To prevent multiple clicks.\n",
              "      quickchartButtonEl.classList.add('colab-df-spinner');\n",
              "      try {\n",
              "        const charts = await google.colab.kernel.invokeFunction(\n",
              "            'suggestCharts', [key], {});\n",
              "      } catch (error) {\n",
              "        console.error('Error during call to suggestCharts:', error);\n",
              "      }\n",
              "      quickchartButtonEl.classList.remove('colab-df-spinner');\n",
              "      quickchartButtonEl.classList.add('colab-df-quickchart-complete');\n",
              "    }\n",
              "    (() => {\n",
              "      let quickchartButtonEl =\n",
              "        document.querySelector('#df-184b1e00-1a84-4a0f-8ff9-ec3c6cd2a015 button');\n",
              "      quickchartButtonEl.style.display =\n",
              "        google.colab.kernel.accessAllowed ? 'block' : 'none';\n",
              "    })();\n",
              "  </script>\n",
              "</div>\n",
              "\n",
              "    </div>\n",
              "  </div>\n"
            ],
            "application/vnd.google.colaboratory.intrinsic+json": {
              "type": "dataframe",
              "variable_name": "news_test",
              "summary": "{\n  \"name\": \"news_test\",\n  \"rows\": 5200,\n  \"fields\": [\n    {\n      \"column\": \"id\",\n      \"properties\": {\n        \"dtype\": \"number\",\n        \"std\": 1501,\n        \"min\": 20800,\n        \"max\": 25999,\n        \"num_unique_values\": 5200,\n        \"samples\": [\n          21926,\n          20879,\n          24060\n        ],\n        \"semantic_type\": \"\",\n        \"description\": \"\"\n      }\n    },\n    {\n      \"column\": \"title\",\n      \"properties\": {\n        \"dtype\": \"string\",\n        \"num_unique_values\": 5056,\n        \"samples\": [\n          \"Paula Jones Calls Megyn Kelly A \\u2018Nasty Heifer\\u2019 After Contentious Interview With Gingrich [VIDEO]\",\n          \"How Grey are the White Helmets and Their Backers?\",\n          \"The Hidden Influence of Clinton and Trump\\u2019s Religion - The New York Times\"\n        ],\n        \"semantic_type\": \"\",\n        \"description\": \"\"\n      }\n    },\n    {\n      \"column\": \"author\",\n      \"properties\": {\n        \"dtype\": \"category\",\n        \"num_unique_values\": 1732,\n        \"samples\": [\n          \"Dave Philipps\",\n          \"Charly Wilder\",\n          \"Ivan the Stakhanovets\"\n        ],\n        \"semantic_type\": \"\",\n        \"description\": \"\"\n      }\n    },\n    {\n      \"column\": \"text\",\n      \"properties\": {\n        \"dtype\": \"string\",\n        \"num_unique_values\": 5126,\n        \"samples\": [\n          \"By Daily News Bin | November 3, 2016 | 2 947 SHARES \\nMost Americans know Jason Chaffetz as the rogue Republican Congressman who can get away with being as dishonest and duplicitous as he wants because his conservative district in Utah keeps reelecting him no matter what he does. He was caught using private email for work purposes while he was trying to take down Hillary Clinton for doing the same. And last week he flat out lied about an FBI letter in clear violation of federal law under the Hatch Act. But just when you think Chaffetz can\\u2019t be dirtier, it turns out his campaign is literally being funded by a criminal enterprise controlled by overseas investors. \\nThe single biggest campaign donor Jason Chaffetz is a company called Nu Skin Enterprises. Research done by Reverb Press has revealed that it adds up to nearly six figures in total, a surreal dollar amount for a fairly obscure company to give to a single Congressmen. But despite the lack of name recognition, Nu Skin is a billion dollar pyramid scheme which pushes questionable anti-aging miracle cures. And it\\u2019s been busted by the Feds for criminal behavior resulting in tens of millions of dollars in penalties. \\nBizarrely, Nu Skin Enterprises is now being bought up by overseas Chinese investors to the tune of hundreds of millions of dollars, placing the company largely under overseas control even as it\\u2019s begun its illegal business practices into China. Included in the investors list: family members of former Chinese Premier Wen Jiabao. So what does this all have to do with Congressman Jason Chaffetz? In short, a busted criminal pyramid scheme now controlled by Chinese political figures has been funding its very own member of Congress from the very start of his political career. In fact, before entering politics, Chaffetz used to be an employee of the company. With each new turn, the story grows stranger. If you enjoy Daily News Bin, consider making a contribution: Contributed by Daily News Bin staff 947 \",\n          \"Turkey\\u2019s Islamist president, Recep Tayyip Erdo\\u011fan, has stepped up his war of words against Europe, accusing Germany of \\u201cemploying Nazi measures\\u201d against Turks in Germany. [The Justice and Development Party (AKP) leader levelled the accusation at Chancellor Angela Merkel personally, according to EU Observer, while addressing a rally in Istanbul.  \\u201cYou are right now employing Nazi measures,\\u201d he declared. \\u201cAgainst who? My Turkish brother citizens in Germany and brother ministers. \\u201d The   \\u201cModerate Islamist\\u201d was referring to the Merkel administration refusing to allow the AKP to organise political rallies in Germany ahead of a Turkish referendum on 16 April. Germany is home to around three million Turks, and Erdo\\u011fan has been keen to court them, as well as other European diaspora communities, in support of his bid to increase executive powers. Chancellor Merkel said the slurs broke \\u201cevery taboo\\u201d and disrespected genuine victims of the Nazis. She said she would consider revoking permissions for AKP campaign events which have already been granted if the insults continued. Erdo\\u011fan has shown no signs of deescalating his rhetoric, accusing the Germans of \\u201charbouring terrorists\\u201d from Turkey\\u2019s embattled Kurdish minority. Turkey\\u2019s Erdogan accuses Germany of \\u2019harbouring terrorists\\u2019 https:  .  pic. twitter.   \\u2014   FRANCE 24 (@FRANCE24) November 3, 2016,  The Kurds have faced brutal oppression at the hands of the Erdo\\u011fan regime, with the United Nations criticising the Turkish authorities for using summary execution, rape, and torture as tools of suppression, and liquidating Kurdish population centres in the country\\u2019s  . SOURCE:   via Associated Press, In recent days, Turkish authorities have also attacked Kurds celebrating Newroz, a traditional New Year celebration which predates Islam. This is how #Turkey\\u2019s dictator Erdogan treats Kurds who want to celebrate their old tradition #Newroz in Kurdistan pic. twitter.   \\u2014   NieuwsBlog (@nieuwsblog) March 18, 2017, Germany has not been alone in opposing political activities by the AKP in Europe, with Turkish migrants and dual nationals sympathetic to Erdo\\u011fan rioting in the streets after the Dutch government refused to allow Turkish ministers to attend a rally in Rotterdam. Dutch police used water canons to break up a crowd of more than 1, 000  #Erdogan protesters outside the Turkish consulate in #Rotterdam. pic. twitter.   \\u2014   dwnews (@dwnews) March 12, 2017,  Not every European country is holding the line, however. Sweden and France have both succumbed to Turkish pressure and allowed the AKP to hold rallies in their territories. \\u201dWhy should we tolerate speeches on our soil that other democracies refuse? No #Turkish electoral campaign in #France !\\u201d #AKP #METZ #Marine https:  .   \\u2014   Marine in English (@Marine2017_EN) March 12, 2017,  Erdo\\u011fan has responded to the unexpected resistance by urging Turks in Europe to colonise the continent. \\u201cHave not just three but five children,\\u201d he told supporters, echoing the former Algerian leader Houari Boumediene\\u2019s infamous speech to the United Nations in 1974. \\u201cOne day, millions of men will leave the Southern Hemisphere to go to the Northern Hemisphere,\\u201d Boumediene said. \\u201cAnd they will not go there as friends. Because they will go there to conquer it. And they will conquer it with their sons. The wombs of our women will give us victory. \\u201d Erdo\\u011fan was less explicit, saying: \\u201cThe place in which you are living and working is now your homeland and new motherland. Stake a claim to it. \\u201d Turkish Interior Minister S\\u00fcleyman Soylu has also threatened to terminate its migrant deal with the European Union, open its borders, and \\u201csend the 15, 000 refugees to [Europe] that we don\\u2019t send each month and blow your mind\\u201d. The President of the European Commission,   Juncker, attempted to downplay the threat, saying \\u201cit is not in Turkey\\u2019s interests to have smuggling rings and bandits in charge along its coast\\u201d. He added that many Turks in Europe are not interested in undermining their host nations, asserting: \\u201cNot all Turks are little Erdo\\u011fans. \\u201d Germany\\u2019s   population, infuriated by the Islamist president, organised a   rally opposing any increase in his powers on 18 March. #Turkey furious as 30, 000 Kurds rally in Frankfurt with PKK insignia, urging \\u201dno\\u201d to referendum on Erdogan\\u2019s powers https:  .   \\u2014   AFP news agency (@AFP) March 18, 2017, \",\n          \"\\nWikiLeaks has released the 34th batch of emails from the hacked account of Hillary Clinton\\u2019s campaign chair, John Podesta, on the eve of the election. This latest tranche includes 888 communications.\\nMuch of the latest emails\\u2019 content repeats from previous WikiLeaks releases, because entire email threads are not always released at once.\\n\\u2018Needy Latinos\\u2019 considered for VP \\nIn one leaked email, dated August 21, 2015 with the subject line \\u2018Needy Latinos and 1 easy call,\\u2019 Podesta writes to Clinton, \\u201cA few calls you might consider making,\\u201d apparently in relation to potential vice president choices.\\nPodesta then names Federico Pena, Bill Richardson and South Carolina Governor Jim Hodges. The first two are presumably the \\u201cneedy Latinos.\\u201d\\nPena, former secretary of the US Department of Transportation under President Bill Clinton, endorsed Barack Obama over Clinton for the 2008 election and served as his campaign chair. He is covered extensively in the email.\\nPodesta goes on to say that Pena\\u2019s \\u201cCabinet stints ripped up his family,\\u201d and that Pena \\u201cgave everything to the cause and no time to his family, he went through a messy divorce in the late 90\\u2019s and was left really down and felt like no-one reached out to him then so he felt pretty cut off from Clinton World.\\u201d\\nPodesta, passing along all of this information after speaking with former Secretary of the Interior Ken Salazar, gives Clinton four steps in completing a call with Pena, writing: \\u201c1) you really enjoyed seeing Cindy at the Chambers event and appreciate her support. 2) ask him how he\\u2019s been doing 3) ask about his views on the race and what she should be doing in Colorado 4) ask that he consider publicly supporting you.\\u201d\\nAn email reply from Hillary Clinton herself reads: \\u201cAgree about calls. Just a few additional points: several Latinos have asked that I consider Pena for VP.\\u201d\\nOn Richardson, a former governor of New Mexico and US ambassador to the UN under President Clinton, Podesta writes that a recent phone call between Bill Clinton and Richardson went well, \\u201cnot withstanding the fact that [Richardson] can be a dick.\\u201d\\n\\u201cHe had a good conversation with the President and has been good in his interviews since,\\u201d Podesta says of Richardson, telling Hillary that a call to Richardson ahead of his upcoming appearance on NBC\\u2019s \\u2018Meet the Press\\u2019 might seal an endorsement.\\nDonna Brazile \\nThe extent of the cozy relationship between the Clinton campaign and CNN was revealed in an email from the former head of the Democratic National Committee, Donna Brazile, which contained, almost verbatim, the wording of a question Clinton was to be asked at a town hall in Ohio.\\nSent the day before the televised event, which aired on March 13, 2016, Clinton is given the wording for a question she will be asked regarding discrimination amongst trade unions.\\nAlso included is the wording of a question her opponent Bernie Sanders is to be asked on income inequality.\\nSource \\n\"\n        ],\n        \"semantic_type\": \"\",\n        \"description\": \"\"\n      }\n    }\n  ]\n}"
            }
          },
          "metadata": {},
          "execution_count": 8
        }
      ]
    },
    {
      "cell_type": "code",
      "source": [
        "#find out the missing column values in dataset\n",
        "news_train.isnull().sum()"
      ],
      "metadata": {
        "colab": {
          "base_uri": "https://localhost:8080/"
        },
        "id": "0T0qgJT5hD7y",
        "outputId": "1864f186-4b75-4115-8be0-86bd9823aae4"
      },
      "execution_count": 73,
      "outputs": [
        {
          "output_type": "execute_result",
          "data": {
            "text/plain": [
              "id         0\n",
              "title      0\n",
              "author     0\n",
              "text       0\n",
              "label      0\n",
              "content    0\n",
              "dtype: int64"
            ]
          },
          "metadata": {},
          "execution_count": 73
        }
      ]
    },
    {
      "cell_type": "code",
      "source": [
        "#filling the empty spaces with empty string\n",
        "news_train = news_train.fillna('')"
      ],
      "metadata": {
        "id": "-Xuh7HlyhdVc"
      },
      "execution_count": 76,
      "outputs": []
    },
    {
      "cell_type": "code",
      "source": [
        "# merging title and author\n",
        "news_train['content'] = news_train['author'] + ' ' + news_train['title']\n",
        "print(news_train['content'])"
      ],
      "metadata": {
        "colab": {
          "base_uri": "https://localhost:8080/"
        },
        "id": "UxWryGxuo3pH",
        "outputId": "3e775c84-5c63-4e6f-d6b9-d6b1ebaab786"
      },
      "execution_count": 77,
      "outputs": [
        {
          "output_type": "stream",
          "name": "stdout",
          "text": [
            "0        Darrell Lucus House Dem Aide: We Didn’t Even S...\n",
            "1        Daniel J. Flynn FLYNN: Hillary Clinton, Big Wo...\n",
            "2        Consortiumnews.com Why the Truth Might Get You...\n",
            "3        Jessica Purkiss 15 Civilians Killed In Single ...\n",
            "4        Howard Portnoy Iranian woman jailed for fictio...\n",
            "                               ...                        \n",
            "20795    Jerome Hudson Rapper T.I.: Trump a ’Poster Chi...\n",
            "20796    Benjamin Hoffman N.F.L. Playoffs: Schedule, Ma...\n",
            "20797    Michael J. de la Merced and Rachel Abrams Macy...\n",
            "20798    Alex Ansary NATO, Russia To Hold Parallel Exer...\n",
            "20799              David Swanson What Keeps the F-35 Alive\n",
            "Name: content, Length: 20800, dtype: object\n"
          ]
        }
      ]
    },
    {
      "cell_type": "code",
      "source": [
        "#seperating data labels\n",
        "X = news_train.drop(columns = 'label', axis = 1)\n",
        "Y = news_train['label']"
      ],
      "metadata": {
        "id": "nf-jLiWGpffY"
      },
      "execution_count": 79,
      "outputs": []
    },
    {
      "cell_type": "code",
      "source": [
        "print(X)"
      ],
      "metadata": {
        "colab": {
          "base_uri": "https://localhost:8080/"
        },
        "id": "zGLUi_BFqWvh",
        "outputId": "fbeb25d6-0994-4d5b-d793-1387a649d091"
      },
      "execution_count": 80,
      "outputs": [
        {
          "output_type": "stream",
          "name": "stdout",
          "text": [
            "          id                                              title  \\\n",
            "0          0  House Dem Aide: We Didn’t Even See Comey’s Let...   \n",
            "1          1  FLYNN: Hillary Clinton, Big Woman on Campus - ...   \n",
            "2          2                  Why the Truth Might Get You Fired   \n",
            "3          3  15 Civilians Killed In Single US Airstrike Hav...   \n",
            "4          4  Iranian woman jailed for fictional unpublished...   \n",
            "...      ...                                                ...   \n",
            "20795  20795  Rapper T.I.: Trump a ’Poster Child For White S...   \n",
            "20796  20796  N.F.L. Playoffs: Schedule, Matchups and Odds -...   \n",
            "20797  20797  Macy’s Is Said to Receive Takeover Approach by...   \n",
            "20798  20798  NATO, Russia To Hold Parallel Exercises In Bal...   \n",
            "20799  20799                          What Keeps the F-35 Alive   \n",
            "\n",
            "                                          author  \\\n",
            "0                                  Darrell Lucus   \n",
            "1                                Daniel J. Flynn   \n",
            "2                             Consortiumnews.com   \n",
            "3                                Jessica Purkiss   \n",
            "4                                 Howard Portnoy   \n",
            "...                                          ...   \n",
            "20795                              Jerome Hudson   \n",
            "20796                           Benjamin Hoffman   \n",
            "20797  Michael J. de la Merced and Rachel Abrams   \n",
            "20798                                Alex Ansary   \n",
            "20799                              David Swanson   \n",
            "\n",
            "                                                    text  \\\n",
            "0      House Dem Aide: We Didn’t Even See Comey’s Let...   \n",
            "1      Ever get the feeling your life circles the rou...   \n",
            "2      Why the Truth Might Get You Fired October 29, ...   \n",
            "3      Videos 15 Civilians Killed In Single US Airstr...   \n",
            "4      Print \\nAn Iranian woman has been sentenced to...   \n",
            "...                                                  ...   \n",
            "20795  Rapper T. I. unloaded on black celebrities who...   \n",
            "20796  When the Green Bay Packers lost to the Washing...   \n",
            "20797  The Macy’s of today grew from the union of sev...   \n",
            "20798  NATO, Russia To Hold Parallel Exercises In Bal...   \n",
            "20799    David Swanson is an author, activist, journa...   \n",
            "\n",
            "                                                 content  \n",
            "0      Darrell Lucus House Dem Aide: We Didn’t Even S...  \n",
            "1      Daniel J. Flynn FLYNN: Hillary Clinton, Big Wo...  \n",
            "2      Consortiumnews.com Why the Truth Might Get You...  \n",
            "3      Jessica Purkiss 15 Civilians Killed In Single ...  \n",
            "4      Howard Portnoy Iranian woman jailed for fictio...  \n",
            "...                                                  ...  \n",
            "20795  Jerome Hudson Rapper T.I.: Trump a ’Poster Chi...  \n",
            "20796  Benjamin Hoffman N.F.L. Playoffs: Schedule, Ma...  \n",
            "20797  Michael J. de la Merced and Rachel Abrams Macy...  \n",
            "20798  Alex Ansary NATO, Russia To Hold Parallel Exer...  \n",
            "20799            David Swanson What Keeps the F-35 Alive  \n",
            "\n",
            "[20800 rows x 5 columns]\n"
          ]
        }
      ]
    },
    {
      "cell_type": "code",
      "source": [
        "print(Y)"
      ],
      "metadata": {
        "colab": {
          "base_uri": "https://localhost:8080/"
        },
        "id": "-oJLLAeyqfwN",
        "outputId": "4cf52610-b66d-4f25-afde-63e8ccf5221d"
      },
      "execution_count": 81,
      "outputs": [
        {
          "output_type": "stream",
          "name": "stdout",
          "text": [
            "0        1\n",
            "1        0\n",
            "2        1\n",
            "3        1\n",
            "4        1\n",
            "        ..\n",
            "20795    0\n",
            "20796    0\n",
            "20797    0\n",
            "20798    1\n",
            "20799    1\n",
            "Name: label, Length: 20800, dtype: int64\n"
          ]
        }
      ]
    },
    {
      "cell_type": "code",
      "source": [
        "#stemming\n",
        "#it is a process of reducng a word to its root word\n",
        "port_stem = PorterStemmer()"
      ],
      "metadata": {
        "id": "FJuLZgZUrOYW"
      },
      "execution_count": 82,
      "outputs": []
    },
    {
      "cell_type": "markdown",
      "source": [
        "def stemming\n",
        "\n",
        "line 1 = using re library, we are removing all the numbers, commas, etc excpet the letters from a to z and A to Z.\n",
        "\n",
        "line 2 = convert alphabets to lowercase\n",
        "\n",
        "line 3 = convert the words to list\n",
        "\n",
        "line 4 = perform stemming and remove stopwords present in english language\n",
        "\n",
        "line 5 = afer line 4, this line joins all the words back"
      ],
      "metadata": {
        "id": "DxTEr6rtJFpM"
      }
    },
    {
      "cell_type": "code",
      "source": [
        "def stemming(content):\n",
        "  stemmed_content = re.sub('[^a-zA-Z]', ' ', content)\n",
        "  stemmed_content = stemmed_content.lower()\n",
        "  stemmed_content = stemmed_content.split()\n",
        "  sremmed_content = [port_stem.stem(word) for word in stemmed_content if not word in stopwords.words('english')]\n",
        "  stemmed_content = ' '.join(stemmed_content)\n",
        "  return stemmed_content"
      ],
      "metadata": {
        "id": "uRCprBfWG8FD"
      },
      "execution_count": 83,
      "outputs": []
    },
    {
      "cell_type": "code",
      "source": [
        "news_train['content'] = news_train['content'].apply(stemming)"
      ],
      "metadata": {
        "id": "sqBk5iCEy1uG"
      },
      "execution_count": 84,
      "outputs": []
    },
    {
      "cell_type": "code",
      "source": [
        "print(news_train['content'])"
      ],
      "metadata": {
        "colab": {
          "base_uri": "https://localhost:8080/"
        },
        "id": "AJmom3UI2pox",
        "outputId": "67ce5811-1388-4beb-ab93-c853c22a489a"
      },
      "execution_count": 86,
      "outputs": [
        {
          "output_type": "stream",
          "name": "stdout",
          "text": [
            "0        darrell lucus house dem aide we didn t even se...\n",
            "1        daniel j flynn flynn hillary clinton big woman...\n",
            "2        consortiumnews com why the truth might get you...\n",
            "3        jessica purkiss civilians killed in single us ...\n",
            "4        howard portnoy iranian woman jailed for fictio...\n",
            "                               ...                        \n",
            "20795    jerome hudson rapper t i trump a poster child ...\n",
            "20796    benjamin hoffman n f l playoffs schedule match...\n",
            "20797    michael j de la merced and rachel abrams macy ...\n",
            "20798    alex ansary nato russia to hold parallel exerc...\n",
            "20799                 david swanson what keeps the f alive\n",
            "Name: content, Length: 20800, dtype: object\n"
          ]
        }
      ]
    },
    {
      "cell_type": "code",
      "source": [
        "#seperating data and labels\n",
        "X = news_train['content'].values\n",
        "Y = news_train['label'].values"
      ],
      "metadata": {
        "id": "_AGGyvWN3jN6"
      },
      "execution_count": 88,
      "outputs": []
    },
    {
      "cell_type": "code",
      "source": [
        "\n",
        "print(test_X)"
      ],
      "metadata": {
        "colab": {
          "base_uri": "https://localhost:8080/"
        },
        "id": "3qIv3nXl-6JV",
        "outputId": "3afd23f3-4b1a-47db-f946-48114b0b334b"
      },
      "execution_count": 90,
      "outputs": [
        {
          "output_type": "stream",
          "name": "stdout",
          "text": [
            "['darrell lucus house dem aide we didn t even see comey s letter until jason chaffetz tweeted it'\n",
            " 'daniel j flynn flynn hillary clinton big woman on campus breitbart'\n",
            " 'consortiumnews com why the truth might get you fired' ...\n",
            " 'michael j de la merced and rachel abrams macy s is said to receive takeover approach by hudson s bay the new york times'\n",
            " 'alex ansary nato russia to hold parallel exercises in balkans'\n",
            " 'david swanson what keeps the f alive']\n"
          ]
        }
      ]
    },
    {
      "cell_type": "code",
      "source": [
        "print(X)"
      ],
      "metadata": {
        "colab": {
          "base_uri": "https://localhost:8080/"
        },
        "id": "4PntMwts4LoS",
        "outputId": "64fbb40a-5c64-4433-b341-2d0d221f1d02"
      },
      "execution_count": 91,
      "outputs": [
        {
          "output_type": "stream",
          "name": "stdout",
          "text": [
            "['darrell lucus house dem aide we didn t even see comey s letter until jason chaffetz tweeted it'\n",
            " 'daniel j flynn flynn hillary clinton big woman on campus breitbart'\n",
            " 'consortiumnews com why the truth might get you fired' ...\n",
            " 'michael j de la merced and rachel abrams macy s is said to receive takeover approach by hudson s bay the new york times'\n",
            " 'alex ansary nato russia to hold parallel exercises in balkans'\n",
            " 'david swanson what keeps the f alive']\n"
          ]
        }
      ]
    },
    {
      "cell_type": "code",
      "source": [
        "print(Y)"
      ],
      "metadata": {
        "colab": {
          "base_uri": "https://localhost:8080/"
        },
        "id": "_e-062Vw4NHy",
        "outputId": "f1c9e088-c0c9-41c8-fc01-2cb100ba5872"
      },
      "execution_count": 92,
      "outputs": [
        {
          "output_type": "stream",
          "name": "stdout",
          "text": [
            "[1 0 1 ... 0 1 1]\n"
          ]
        }
      ]
    },
    {
      "cell_type": "code",
      "source": [
        "# converting textual data to numerical data Done for training the regression model\n",
        "# Tf = term frequency\n",
        "# idf = inverse documnet frequency   repeating words that doesn't have importance\n",
        "# this function is used for couting the number of times a word apperas in the data and the importance of the word\n",
        "vectorizer = TfidfVectorizer()\n",
        "vectorizer.fit(X)\n",
        "\n",
        "X = vectorizer.transform(X)"
      ],
      "metadata": {
        "id": "AO1uDVyg4PvW"
      },
      "execution_count": 93,
      "outputs": []
    },
    {
      "cell_type": "code",
      "source": [
        "print(X)"
      ],
      "metadata": {
        "colab": {
          "base_uri": "https://localhost:8080/"
        },
        "id": "T8E9vwaE5qrG",
        "outputId": "9642b398-33e2-4d6f-dd49-0ae976006987"
      },
      "execution_count": 94,
      "outputs": [
        {
          "output_type": "stream",
          "name": "stdout",
          "text": [
            "  (0, 22799)\t0.18006628418201243\n",
            "  (0, 22093)\t0.2657547217665701\n",
            "  (0, 21737)\t0.3484096682234656\n",
            "  (0, 18603)\t0.22538156291100417\n",
            "  (0, 12368)\t0.3024246896410992\n",
            "  (0, 11983)\t0.24883580084136206\n",
            "  (0, 10863)\t0.20615338107008116\n",
            "  (0, 10760)\t0.15318017966160952\n",
            "  (0, 9846)\t0.18448937077363603\n",
            "  (0, 7052)\t0.2304743493560024\n",
            "  (0, 5649)\t0.2467735137762447\n",
            "  (0, 5302)\t0.25028059659920077\n",
            "  (0, 5010)\t0.2993451324113331\n",
            "  (0, 4013)\t0.20531564772935784\n",
            "  (0, 3362)\t0.3057979629237607\n",
            "  (0, 418)\t0.2635419649523391\n",
            "  (1, 23191)\t0.2966210296019264\n",
            "  (1, 14607)\t0.15862263711495958\n",
            "  (1, 9592)\t0.18787145765749733\n",
            "  (1, 7895)\t0.7045992054867243\n",
            "  (1, 4971)\t0.2624012615566619\n",
            "  (1, 3806)\t0.19024289659874757\n",
            "  (1, 3013)\t0.37751839443307017\n",
            "  (1, 2585)\t0.15310531118537438\n",
            "  (1, 2051)\t0.2899843833664323\n",
            "  :\t:\n",
            "  (20797, 11627)\t0.21659193986049335\n",
            "  (20797, 10714)\t0.12516633187998083\n",
            "  (20797, 9887)\t0.20792477683235197\n",
            "  (20797, 5061)\t0.20389975589596085\n",
            "  (20797, 2901)\t0.14456424605079038\n",
            "  (20797, 1780)\t0.31989436828531154\n",
            "  (20797, 984)\t0.29969673985755974\n",
            "  (20797, 746)\t0.0987242947097849\n",
            "  (20797, 59)\t0.28338371263237516\n",
            "  (20798, 21221)\t0.11012879273571911\n",
            "  (20798, 18067)\t0.21203810857283628\n",
            "  (20798, 15084)\t0.4330367731657488\n",
            "  (20798, 13942)\t0.302697668091279\n",
            "  (20798, 10221)\t0.12372667259693101\n",
            "  (20798, 9687)\t0.3360628776269571\n",
            "  (20798, 7154)\t0.4330367731657488\n",
            "  (20798, 1577)\t0.4330367731657488\n",
            "  (20798, 837)\t0.2956214782753605\n",
            "  (20798, 526)\t0.27034138578025346\n",
            "  (20799, 22936)\t0.3036883879058238\n",
            "  (20799, 21006)\t0.11435323534322306\n",
            "  (20799, 20546)\t0.5069780866279595\n",
            "  (20799, 11265)\t0.5156967065416901\n",
            "  (20799, 5039)\t0.3386739535864246\n",
            "  (20799, 559)\t0.5069780866279595\n"
          ]
        }
      ]
    },
    {
      "cell_type": "code",
      "source": [
        "X_train = X\n",
        "Y_train = news_train['label']"
      ],
      "metadata": {
        "id": "jpSt6WgV6EyO"
      },
      "execution_count": 95,
      "outputs": []
    },
    {
      "cell_type": "code",
      "source": [
        "print(X_train)"
      ],
      "metadata": {
        "colab": {
          "base_uri": "https://localhost:8080/"
        },
        "id": "OjuFSZfj8jRU",
        "outputId": "1d44da31-0876-431d-927a-1ea95377de28"
      },
      "execution_count": 96,
      "outputs": [
        {
          "output_type": "stream",
          "name": "stdout",
          "text": [
            "  (0, 22799)\t0.18006628418201243\n",
            "  (0, 22093)\t0.2657547217665701\n",
            "  (0, 21737)\t0.3484096682234656\n",
            "  (0, 18603)\t0.22538156291100417\n",
            "  (0, 12368)\t0.3024246896410992\n",
            "  (0, 11983)\t0.24883580084136206\n",
            "  (0, 10863)\t0.20615338107008116\n",
            "  (0, 10760)\t0.15318017966160952\n",
            "  (0, 9846)\t0.18448937077363603\n",
            "  (0, 7052)\t0.2304743493560024\n",
            "  (0, 5649)\t0.2467735137762447\n",
            "  (0, 5302)\t0.25028059659920077\n",
            "  (0, 5010)\t0.2993451324113331\n",
            "  (0, 4013)\t0.20531564772935784\n",
            "  (0, 3362)\t0.3057979629237607\n",
            "  (0, 418)\t0.2635419649523391\n",
            "  (1, 23191)\t0.2966210296019264\n",
            "  (1, 14607)\t0.15862263711495958\n",
            "  (1, 9592)\t0.18787145765749733\n",
            "  (1, 7895)\t0.7045992054867243\n",
            "  (1, 4971)\t0.2624012615566619\n",
            "  (1, 3806)\t0.19024289659874757\n",
            "  (1, 3013)\t0.37751839443307017\n",
            "  (1, 2585)\t0.15310531118537438\n",
            "  (1, 2051)\t0.2899843833664323\n",
            "  :\t:\n",
            "  (20797, 11627)\t0.21659193986049335\n",
            "  (20797, 10714)\t0.12516633187998083\n",
            "  (20797, 9887)\t0.20792477683235197\n",
            "  (20797, 5061)\t0.20389975589596085\n",
            "  (20797, 2901)\t0.14456424605079038\n",
            "  (20797, 1780)\t0.31989436828531154\n",
            "  (20797, 984)\t0.29969673985755974\n",
            "  (20797, 746)\t0.0987242947097849\n",
            "  (20797, 59)\t0.28338371263237516\n",
            "  (20798, 21221)\t0.11012879273571911\n",
            "  (20798, 18067)\t0.21203810857283628\n",
            "  (20798, 15084)\t0.4330367731657488\n",
            "  (20798, 13942)\t0.302697668091279\n",
            "  (20798, 10221)\t0.12372667259693101\n",
            "  (20798, 9687)\t0.3360628776269571\n",
            "  (20798, 7154)\t0.4330367731657488\n",
            "  (20798, 1577)\t0.4330367731657488\n",
            "  (20798, 837)\t0.2956214782753605\n",
            "  (20798, 526)\t0.27034138578025346\n",
            "  (20799, 22936)\t0.3036883879058238\n",
            "  (20799, 21006)\t0.11435323534322306\n",
            "  (20799, 20546)\t0.5069780866279595\n",
            "  (20799, 11265)\t0.5156967065416901\n",
            "  (20799, 5039)\t0.3386739535864246\n",
            "  (20799, 559)\t0.5069780866279595\n"
          ]
        }
      ]
    },
    {
      "cell_type": "code",
      "source": [
        "X_train, X_test, Y_train, Y_test = train_test_split(X, Y, test_size = 0.5, stratify = Y, random_state = 2)"
      ],
      "metadata": {
        "id": "u6zzUoHjCeBd"
      },
      "execution_count": 114,
      "outputs": []
    },
    {
      "cell_type": "code",
      "source": [
        "#Training the model = Logistic Regression Model\n",
        "model = LogisticRegression()\n",
        "model.fit(X_train, Y_train)"
      ],
      "metadata": {
        "colab": {
          "base_uri": "https://localhost:8080/",
          "height": 74
        },
        "id": "g5cgnJOn7jwT",
        "outputId": "5d6afc18-9fc6-44d6-b0ed-f68dff64c8ea"
      },
      "execution_count": 115,
      "outputs": [
        {
          "output_type": "execute_result",
          "data": {
            "text/plain": [
              "LogisticRegression()"
            ],
            "text/html": [
              "<style>#sk-container-id-5 {color: black;background-color: white;}#sk-container-id-5 pre{padding: 0;}#sk-container-id-5 div.sk-toggleable {background-color: white;}#sk-container-id-5 label.sk-toggleable__label {cursor: pointer;display: block;width: 100%;margin-bottom: 0;padding: 0.3em;box-sizing: border-box;text-align: center;}#sk-container-id-5 label.sk-toggleable__label-arrow:before {content: \"▸\";float: left;margin-right: 0.25em;color: #696969;}#sk-container-id-5 label.sk-toggleable__label-arrow:hover:before {color: black;}#sk-container-id-5 div.sk-estimator:hover label.sk-toggleable__label-arrow:before {color: black;}#sk-container-id-5 div.sk-toggleable__content {max-height: 0;max-width: 0;overflow: hidden;text-align: left;background-color: #f0f8ff;}#sk-container-id-5 div.sk-toggleable__content pre {margin: 0.2em;color: black;border-radius: 0.25em;background-color: #f0f8ff;}#sk-container-id-5 input.sk-toggleable__control:checked~div.sk-toggleable__content {max-height: 200px;max-width: 100%;overflow: auto;}#sk-container-id-5 input.sk-toggleable__control:checked~label.sk-toggleable__label-arrow:before {content: \"▾\";}#sk-container-id-5 div.sk-estimator input.sk-toggleable__control:checked~label.sk-toggleable__label {background-color: #d4ebff;}#sk-container-id-5 div.sk-label input.sk-toggleable__control:checked~label.sk-toggleable__label {background-color: #d4ebff;}#sk-container-id-5 input.sk-hidden--visually {border: 0;clip: rect(1px 1px 1px 1px);clip: rect(1px, 1px, 1px, 1px);height: 1px;margin: -1px;overflow: hidden;padding: 0;position: absolute;width: 1px;}#sk-container-id-5 div.sk-estimator {font-family: monospace;background-color: #f0f8ff;border: 1px dotted black;border-radius: 0.25em;box-sizing: border-box;margin-bottom: 0.5em;}#sk-container-id-5 div.sk-estimator:hover {background-color: #d4ebff;}#sk-container-id-5 div.sk-parallel-item::after {content: \"\";width: 100%;border-bottom: 1px solid gray;flex-grow: 1;}#sk-container-id-5 div.sk-label:hover label.sk-toggleable__label {background-color: #d4ebff;}#sk-container-id-5 div.sk-serial::before {content: \"\";position: absolute;border-left: 1px solid gray;box-sizing: border-box;top: 0;bottom: 0;left: 50%;z-index: 0;}#sk-container-id-5 div.sk-serial {display: flex;flex-direction: column;align-items: center;background-color: white;padding-right: 0.2em;padding-left: 0.2em;position: relative;}#sk-container-id-5 div.sk-item {position: relative;z-index: 1;}#sk-container-id-5 div.sk-parallel {display: flex;align-items: stretch;justify-content: center;background-color: white;position: relative;}#sk-container-id-5 div.sk-item::before, #sk-container-id-5 div.sk-parallel-item::before {content: \"\";position: absolute;border-left: 1px solid gray;box-sizing: border-box;top: 0;bottom: 0;left: 50%;z-index: -1;}#sk-container-id-5 div.sk-parallel-item {display: flex;flex-direction: column;z-index: 1;position: relative;background-color: white;}#sk-container-id-5 div.sk-parallel-item:first-child::after {align-self: flex-end;width: 50%;}#sk-container-id-5 div.sk-parallel-item:last-child::after {align-self: flex-start;width: 50%;}#sk-container-id-5 div.sk-parallel-item:only-child::after {width: 0;}#sk-container-id-5 div.sk-dashed-wrapped {border: 1px dashed gray;margin: 0 0.4em 0.5em 0.4em;box-sizing: border-box;padding-bottom: 0.4em;background-color: white;}#sk-container-id-5 div.sk-label label {font-family: monospace;font-weight: bold;display: inline-block;line-height: 1.2em;}#sk-container-id-5 div.sk-label-container {text-align: center;}#sk-container-id-5 div.sk-container {/* jupyter's `normalize.less` sets `[hidden] { display: none; }` but bootstrap.min.css set `[hidden] { display: none !important; }` so we also need the `!important` here to be able to override the default hidden behavior on the sphinx rendered scikit-learn.org. See: https://github.com/scikit-learn/scikit-learn/issues/21755 */display: inline-block !important;position: relative;}#sk-container-id-5 div.sk-text-repr-fallback {display: none;}</style><div id=\"sk-container-id-5\" class=\"sk-top-container\"><div class=\"sk-text-repr-fallback\"><pre>LogisticRegression()</pre><b>In a Jupyter environment, please rerun this cell to show the HTML representation or trust the notebook. <br />On GitHub, the HTML representation is unable to render, please try loading this page with nbviewer.org.</b></div><div class=\"sk-container\" hidden><div class=\"sk-item\"><div class=\"sk-estimator sk-toggleable\"><input class=\"sk-toggleable__control sk-hidden--visually\" id=\"sk-estimator-id-5\" type=\"checkbox\" checked><label for=\"sk-estimator-id-5\" class=\"sk-toggleable__label sk-toggleable__label-arrow\">LogisticRegression</label><div class=\"sk-toggleable__content\"><pre>LogisticRegression()</pre></div></div></div></div></div>"
            ]
          },
          "metadata": {},
          "execution_count": 115
        }
      ]
    },
    {
      "cell_type": "markdown",
      "source": [
        "Accuracy score"
      ],
      "metadata": {
        "id": "wLWYxySq80tN"
      }
    },
    {
      "cell_type": "code",
      "source": [
        "#accuracy of the training data\n",
        "X_train_prediction = model.predict(X_train)\n",
        "train_accuracy = accuracy_score(X_train_prediction, Y_train)"
      ],
      "metadata": {
        "id": "bRbbyrxE8YVt"
      },
      "execution_count": 116,
      "outputs": []
    },
    {
      "cell_type": "code",
      "source": [
        "print(\"Accuracy score of training data=\", + train_accuracy)"
      ],
      "metadata": {
        "colab": {
          "base_uri": "https://localhost:8080/"
        },
        "id": "iixVLt9j9Rru",
        "outputId": "7c401b97-4a37-454d-fd3b-a237803fd6e4"
      },
      "execution_count": 117,
      "outputs": [
        {
          "output_type": "stream",
          "name": "stdout",
          "text": [
            "Accuracy score of training data= 0.9832692307692308\n"
          ]
        }
      ]
    },
    {
      "cell_type": "code",
      "source": [
        "X_test_prediction = model.predict(X_test)\n",
        "test_prediction = accuracy_score(X_test_prediction, Y_test)"
      ],
      "metadata": {
        "id": "ZMAiNtY79VXJ"
      },
      "execution_count": 118,
      "outputs": []
    },
    {
      "cell_type": "code",
      "source": [
        "print(\"Accuracy_score for test data = \",+ test_prediction)"
      ],
      "metadata": {
        "colab": {
          "base_uri": "https://localhost:8080/"
        },
        "id": "reletqH8DIEA",
        "outputId": "ca26b024-ef3b-484a-ecc7-eeb536769d7c"
      },
      "execution_count": 119,
      "outputs": [
        {
          "output_type": "stream",
          "name": "stdout",
          "text": [
            "Accuracy_score for test data =  0.9657692307692308\n"
          ]
        }
      ]
    },
    {
      "cell_type": "code",
      "source": [
        "#making a prediction system\n",
        "news_predict = X_test[1]\n",
        "prediction = model.predict(news_predict)\n",
        "\n",
        "print(prediction)\n",
        "if(prediction[0] == 0):\n",
        "  print(\"News is real\")\n",
        "else:\n",
        "  print(\"News is fake\")"
      ],
      "metadata": {
        "colab": {
          "base_uri": "https://localhost:8080/"
        },
        "id": "jVrI8XvWDQxh",
        "outputId": "e714577e-a922-422f-f950-bc8dd434e322"
      },
      "execution_count": 128,
      "outputs": [
        {
          "output_type": "stream",
          "name": "stdout",
          "text": [
            "[1]\n",
            "News is fake\n"
          ]
        }
      ]
    },
    {
      "cell_type": "code",
      "source": [
        "print(Y_test[1])"
      ],
      "metadata": {
        "colab": {
          "base_uri": "https://localhost:8080/"
        },
        "id": "6U5zayHgDq8E",
        "outputId": "1531cb71-ab10-4e50-ecc9-1c62ef5b6252"
      },
      "execution_count": 129,
      "outputs": [
        {
          "output_type": "stream",
          "name": "stdout",
          "text": [
            "1\n"
          ]
        }
      ]
    },
    {
      "cell_type": "code",
      "source": [],
      "metadata": {
        "id": "xZjuSHIDEGNF"
      },
      "execution_count": null,
      "outputs": []
    }
  ]
}
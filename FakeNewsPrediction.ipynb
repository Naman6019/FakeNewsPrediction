{
  "cells": [
    {
      "cell_type": "markdown",
      "metadata": {
        "colab_type": "text",
        "id": "view-in-github"
      },
      "source": [
        "<a href=\"https://colab.research.google.com/github/Naman6019/FakeNewsPrediction/blob/main/FakeNewsPrediction.ipynb\" target=\"_parent\"><img src=\"https://colab.research.google.com/assets/colab-badge.svg\" alt=\"Open In Colab\"/></a>"
      ]
    },
    {
      "cell_type": "markdown",
      "metadata": {
        "id": "MK6zuhq0beLG"
      },
      "source": [
        "TfidVectorizer is used to convert text into feature vectors\n",
        "\n",
        "re is useful for searching through a text\n",
        "\n",
        "stopwords are those words which dont add much value to the context of the text"
      ]
    },
    {
      "cell_type": "code",
      "execution_count": 1,
      "metadata": {
        "id": "5Q9ht7KgXtZx"
      },
      "outputs": [],
      "source": [
        "import numpy as np\n",
        "import pandas as pd\n",
        "import re\n",
        "from nltk.corpus import stopwords\n",
        "from nltk.stem.porter import PorterStemmer\n",
        "from sklearn.feature_extraction.text import TfidfVectorizer\n",
        "from sklearn.model_selection import train_test_split\n",
        "from sklearn.linear_model import LogisticRegression\n",
        "from sklearn.metrics import accuracy_score"
      ]
    },
    {
      "cell_type": "code",
      "execution_count": 2,
      "metadata": {
        "colab": {
          "base_uri": "https://localhost:8080/"
        },
        "id": "FAQGsHUqb52m",
        "outputId": "51ce028a-7142-4f21-aa6e-5bbb7e045848"
      },
      "outputs": [
        {
          "name": "stderr",
          "output_type": "stream",
          "text": [
            "[nltk_data] Downloading package stopwords to\n",
            "[nltk_data]     C:\\Users\\naman\\AppData\\Roaming\\nltk_data...\n",
            "[nltk_data]   Package stopwords is already up-to-date!\n"
          ]
        },
        {
          "data": {
            "text/plain": [
              "True"
            ]
          },
          "execution_count": 2,
          "metadata": {},
          "output_type": "execute_result"
        }
      ],
      "source": [
        "import nltk\n",
        "nltk.download('stopwords')"
      ]
    },
    {
      "cell_type": "code",
      "execution_count": 3,
      "metadata": {
        "colab": {
          "base_uri": "https://localhost:8080/"
        },
        "id": "KZmy_Nldf9MP",
        "outputId": "9240cbd3-e7fd-48f2-f1ee-e06d50bc24de"
      },
      "outputs": [
        {
          "name": "stdout",
          "output_type": "stream",
          "text": [
            "['i', 'me', 'my', 'myself', 'we', 'our', 'ours', 'ourselves', 'you', \"you're\", \"you've\", \"you'll\", \"you'd\", 'your', 'yours', 'yourself', 'yourselves', 'he', 'him', 'his', 'himself', 'she', \"she's\", 'her', 'hers', 'herself', 'it', \"it's\", 'its', 'itself', 'they', 'them', 'their', 'theirs', 'themselves', 'what', 'which', 'who', 'whom', 'this', 'that', \"that'll\", 'these', 'those', 'am', 'is', 'are', 'was', 'were', 'be', 'been', 'being', 'have', 'has', 'had', 'having', 'do', 'does', 'did', 'doing', 'a', 'an', 'the', 'and', 'but', 'if', 'or', 'because', 'as', 'until', 'while', 'of', 'at', 'by', 'for', 'with', 'about', 'against', 'between', 'into', 'through', 'during', 'before', 'after', 'above', 'below', 'to', 'from', 'up', 'down', 'in', 'out', 'on', 'off', 'over', 'under', 'again', 'further', 'then', 'once', 'here', 'there', 'when', 'where', 'why', 'how', 'all', 'any', 'both', 'each', 'few', 'more', 'most', 'other', 'some', 'such', 'no', 'nor', 'not', 'only', 'own', 'same', 'so', 'than', 'too', 'very', 's', 't', 'can', 'will', 'just', 'don', \"don't\", 'should', \"should've\", 'now', 'd', 'll', 'm', 'o', 're', 've', 'y', 'ain', 'aren', \"aren't\", 'couldn', \"couldn't\", 'didn', \"didn't\", 'doesn', \"doesn't\", 'hadn', \"hadn't\", 'hasn', \"hasn't\", 'haven', \"haven't\", 'isn', \"isn't\", 'ma', 'mightn', \"mightn't\", 'mustn', \"mustn't\", 'needn', \"needn't\", 'shan', \"shan't\", 'shouldn', \"shouldn't\", 'wasn', \"wasn't\", 'weren', \"weren't\", 'won', \"won't\", 'wouldn', \"wouldn't\"]\n"
          ]
        }
      ],
      "source": [
        "print(stopwords.words('english'))"
      ]
    },
    {
      "cell_type": "markdown",
      "metadata": {
        "id": "jGx3K76ogW6m"
      },
      "source": [
        "Data collection and Pre-processing"
      ]
    },
    {
      "cell_type": "code",
      "execution_count": 6,
      "metadata": {
        "id": "hMUxUNYIgGU3"
      },
      "outputs": [],
      "source": [
        "news_train = pd.read_csv('train.csv')"
      ]
    },
    {
      "cell_type": "code",
      "execution_count": 7,
      "metadata": {
        "colab": {
          "base_uri": "https://localhost:8080/"
        },
        "id": "R7-fzO-ngjgM",
        "outputId": "c3044c29-23a8-484e-f659-b07ef2959bf9"
      },
      "outputs": [
        {
          "data": {
            "text/plain": [
              "(20800, 5)"
            ]
          },
          "execution_count": 7,
          "metadata": {},
          "output_type": "execute_result"
        }
      ],
      "source": [
        "news_train.shape"
      ]
    },
    {
      "cell_type": "code",
      "execution_count": 9,
      "metadata": {
        "colab": {
          "base_uri": "https://localhost:8080/",
          "height": 206
        },
        "id": "UmrNYsaug2jO",
        "outputId": "de786c5f-be78-491e-d5cf-77849f72d4d4"
      },
      "outputs": [
        {
          "data": {
            "text/html": [
              "<div>\n",
              "<style scoped>\n",
              "    .dataframe tbody tr th:only-of-type {\n",
              "        vertical-align: middle;\n",
              "    }\n",
              "\n",
              "    .dataframe tbody tr th {\n",
              "        vertical-align: top;\n",
              "    }\n",
              "\n",
              "    .dataframe thead th {\n",
              "        text-align: right;\n",
              "    }\n",
              "</style>\n",
              "<table border=\"1\" class=\"dataframe\">\n",
              "  <thead>\n",
              "    <tr style=\"text-align: right;\">\n",
              "      <th></th>\n",
              "      <th>id</th>\n",
              "      <th>title</th>\n",
              "      <th>author</th>\n",
              "      <th>text</th>\n",
              "      <th>label</th>\n",
              "    </tr>\n",
              "  </thead>\n",
              "  <tbody>\n",
              "    <tr>\n",
              "      <th>0</th>\n",
              "      <td>0</td>\n",
              "      <td>House Dem Aide: We Didn’t Even See Comey’s Let...</td>\n",
              "      <td>Darrell Lucus</td>\n",
              "      <td>House Dem Aide: We Didn’t Even See Comey’s Let...</td>\n",
              "      <td>1</td>\n",
              "    </tr>\n",
              "    <tr>\n",
              "      <th>1</th>\n",
              "      <td>1</td>\n",
              "      <td>FLYNN: Hillary Clinton, Big Woman on Campus - ...</td>\n",
              "      <td>Daniel J. Flynn</td>\n",
              "      <td>Ever get the feeling your life circles the rou...</td>\n",
              "      <td>0</td>\n",
              "    </tr>\n",
              "    <tr>\n",
              "      <th>2</th>\n",
              "      <td>2</td>\n",
              "      <td>Why the Truth Might Get You Fired</td>\n",
              "      <td>Consortiumnews.com</td>\n",
              "      <td>Why the Truth Might Get You Fired October 29, ...</td>\n",
              "      <td>1</td>\n",
              "    </tr>\n",
              "    <tr>\n",
              "      <th>3</th>\n",
              "      <td>3</td>\n",
              "      <td>15 Civilians Killed In Single US Airstrike Hav...</td>\n",
              "      <td>Jessica Purkiss</td>\n",
              "      <td>Videos 15 Civilians Killed In Single US Airstr...</td>\n",
              "      <td>1</td>\n",
              "    </tr>\n",
              "    <tr>\n",
              "      <th>4</th>\n",
              "      <td>4</td>\n",
              "      <td>Iranian woman jailed for fictional unpublished...</td>\n",
              "      <td>Howard Portnoy</td>\n",
              "      <td>Print \\nAn Iranian woman has been sentenced to...</td>\n",
              "      <td>1</td>\n",
              "    </tr>\n",
              "  </tbody>\n",
              "</table>\n",
              "</div>"
            ],
            "text/plain": [
              "   id                                              title              author  \\\n",
              "0   0  House Dem Aide: We Didn’t Even See Comey’s Let...       Darrell Lucus   \n",
              "1   1  FLYNN: Hillary Clinton, Big Woman on Campus - ...     Daniel J. Flynn   \n",
              "2   2                  Why the Truth Might Get You Fired  Consortiumnews.com   \n",
              "3   3  15 Civilians Killed In Single US Airstrike Hav...     Jessica Purkiss   \n",
              "4   4  Iranian woman jailed for fictional unpublished...      Howard Portnoy   \n",
              "\n",
              "                                                text  label  \n",
              "0  House Dem Aide: We Didn’t Even See Comey’s Let...      1  \n",
              "1  Ever get the feeling your life circles the rou...      0  \n",
              "2  Why the Truth Might Get You Fired October 29, ...      1  \n",
              "3  Videos 15 Civilians Killed In Single US Airstr...      1  \n",
              "4  Print \\nAn Iranian woman has been sentenced to...      1  "
            ]
          },
          "execution_count": 9,
          "metadata": {},
          "output_type": "execute_result"
        }
      ],
      "source": [
        "news_train.head()"
      ]
    },
    {
      "cell_type": "code",
      "execution_count": 10,
      "metadata": {
        "colab": {
          "base_uri": "https://localhost:8080/"
        },
        "id": "0T0qgJT5hD7y",
        "outputId": "1864f186-4b75-4115-8be0-86bd9823aae4"
      },
      "outputs": [
        {
          "data": {
            "text/plain": [
              "id           0\n",
              "title      558\n",
              "author    1957\n",
              "text        39\n",
              "label        0\n",
              "dtype: int64"
            ]
          },
          "execution_count": 10,
          "metadata": {},
          "output_type": "execute_result"
        }
      ],
      "source": [
        "#find out the missing column values in dataset\n",
        "news_train.isnull().sum()"
      ]
    },
    {
      "cell_type": "code",
      "execution_count": 11,
      "metadata": {
        "id": "-Xuh7HlyhdVc"
      },
      "outputs": [],
      "source": [
        "#filling the empty spaces with empty string\n",
        "news_train = news_train.fillna('')"
      ]
    },
    {
      "cell_type": "code",
      "execution_count": 12,
      "metadata": {
        "colab": {
          "base_uri": "https://localhost:8080/"
        },
        "id": "UxWryGxuo3pH",
        "outputId": "3e775c84-5c63-4e6f-d6b9-d6b1ebaab786"
      },
      "outputs": [
        {
          "name": "stdout",
          "output_type": "stream",
          "text": [
            "0        Darrell Lucus House Dem Aide: We Didn’t Even S...\n",
            "1        Daniel J. Flynn FLYNN: Hillary Clinton, Big Wo...\n",
            "2        Consortiumnews.com Why the Truth Might Get You...\n",
            "3        Jessica Purkiss 15 Civilians Killed In Single ...\n",
            "4        Howard Portnoy Iranian woman jailed for fictio...\n",
            "                               ...                        \n",
            "20795    Jerome Hudson Rapper T.I.: Trump a ’Poster Chi...\n",
            "20796    Benjamin Hoffman N.F.L. Playoffs: Schedule, Ma...\n",
            "20797    Michael J. de la Merced and Rachel Abrams Macy...\n",
            "20798    Alex Ansary NATO, Russia To Hold Parallel Exer...\n",
            "20799              David Swanson What Keeps the F-35 Alive\n",
            "Name: content, Length: 20800, dtype: object\n"
          ]
        }
      ],
      "source": [
        "# merging title and author\n",
        "news_train['content'] = news_train['author'] + ' ' + news_train['title']\n",
        "print(news_train['content'])"
      ]
    },
    {
      "cell_type": "code",
      "execution_count": 13,
      "metadata": {
        "id": "nf-jLiWGpffY"
      },
      "outputs": [],
      "source": [
        "#seperating data labels\n",
        "X = news_train.drop(columns = 'label', axis = 1)\n",
        "Y = news_train['label']"
      ]
    },
    {
      "cell_type": "code",
      "execution_count": 14,
      "metadata": {
        "colab": {
          "base_uri": "https://localhost:8080/"
        },
        "id": "zGLUi_BFqWvh",
        "outputId": "fbeb25d6-0994-4d5b-d793-1387a649d091"
      },
      "outputs": [
        {
          "name": "stdout",
          "output_type": "stream",
          "text": [
            "          id                                              title  \\\n",
            "0          0  House Dem Aide: We Didn’t Even See Comey’s Let...   \n",
            "1          1  FLYNN: Hillary Clinton, Big Woman on Campus - ...   \n",
            "2          2                  Why the Truth Might Get You Fired   \n",
            "3          3  15 Civilians Killed In Single US Airstrike Hav...   \n",
            "4          4  Iranian woman jailed for fictional unpublished...   \n",
            "...      ...                                                ...   \n",
            "20795  20795  Rapper T.I.: Trump a ’Poster Child For White S...   \n",
            "20796  20796  N.F.L. Playoffs: Schedule, Matchups and Odds -...   \n",
            "20797  20797  Macy’s Is Said to Receive Takeover Approach by...   \n",
            "20798  20798  NATO, Russia To Hold Parallel Exercises In Bal...   \n",
            "20799  20799                          What Keeps the F-35 Alive   \n",
            "\n",
            "                                          author  \\\n",
            "0                                  Darrell Lucus   \n",
            "1                                Daniel J. Flynn   \n",
            "2                             Consortiumnews.com   \n",
            "3                                Jessica Purkiss   \n",
            "4                                 Howard Portnoy   \n",
            "...                                          ...   \n",
            "20795                              Jerome Hudson   \n",
            "20796                           Benjamin Hoffman   \n",
            "20797  Michael J. de la Merced and Rachel Abrams   \n",
            "20798                                Alex Ansary   \n",
            "20799                              David Swanson   \n",
            "\n",
            "                                                    text  \\\n",
            "0      House Dem Aide: We Didn’t Even See Comey’s Let...   \n",
            "1      Ever get the feeling your life circles the rou...   \n",
            "2      Why the Truth Might Get You Fired October 29, ...   \n",
            "3      Videos 15 Civilians Killed In Single US Airstr...   \n",
            "4      Print \\nAn Iranian woman has been sentenced to...   \n",
            "...                                                  ...   \n",
            "20795  Rapper T. I. unloaded on black celebrities who...   \n",
            "20796  When the Green Bay Packers lost to the Washing...   \n",
            "20797  The Macy’s of today grew from the union of sev...   \n",
            "20798  NATO, Russia To Hold Parallel Exercises In Bal...   \n",
            "20799    David Swanson is an author, activist, journa...   \n",
            "\n",
            "                                                 content  \n",
            "0      Darrell Lucus House Dem Aide: We Didn’t Even S...  \n",
            "1      Daniel J. Flynn FLYNN: Hillary Clinton, Big Wo...  \n",
            "2      Consortiumnews.com Why the Truth Might Get You...  \n",
            "3      Jessica Purkiss 15 Civilians Killed In Single ...  \n",
            "4      Howard Portnoy Iranian woman jailed for fictio...  \n",
            "...                                                  ...  \n",
            "20795  Jerome Hudson Rapper T.I.: Trump a ’Poster Chi...  \n",
            "20796  Benjamin Hoffman N.F.L. Playoffs: Schedule, Ma...  \n",
            "20797  Michael J. de la Merced and Rachel Abrams Macy...  \n",
            "20798  Alex Ansary NATO, Russia To Hold Parallel Exer...  \n",
            "20799            David Swanson What Keeps the F-35 Alive  \n",
            "\n",
            "[20800 rows x 5 columns]\n"
          ]
        }
      ],
      "source": [
        "print(X)"
      ]
    },
    {
      "cell_type": "code",
      "execution_count": 15,
      "metadata": {
        "colab": {
          "base_uri": "https://localhost:8080/"
        },
        "id": "-oJLLAeyqfwN",
        "outputId": "4cf52610-b66d-4f25-afde-63e8ccf5221d"
      },
      "outputs": [
        {
          "name": "stdout",
          "output_type": "stream",
          "text": [
            "0        1\n",
            "1        0\n",
            "2        1\n",
            "3        1\n",
            "4        1\n",
            "        ..\n",
            "20795    0\n",
            "20796    0\n",
            "20797    0\n",
            "20798    1\n",
            "20799    1\n",
            "Name: label, Length: 20800, dtype: int64\n"
          ]
        }
      ],
      "source": [
        "print(Y)"
      ]
    },
    {
      "cell_type": "code",
      "execution_count": 16,
      "metadata": {
        "id": "FJuLZgZUrOYW"
      },
      "outputs": [],
      "source": [
        "#stemming\n",
        "#it is a process of reducng a word to its root word\n",
        "port_stem = PorterStemmer()"
      ]
    },
    {
      "cell_type": "markdown",
      "metadata": {
        "id": "DxTEr6rtJFpM"
      },
      "source": [
        "def stemming\n",
        "\n",
        "line 1 = using re library, we are removing all the numbers, commas, etc excpet the letters from a to z and A to Z.\n",
        "\n",
        "line 2 = convert alphabets to lowercase\n",
        "\n",
        "line 3 = convert the words to list\n",
        "\n",
        "line 4 = perform stemming and remove stopwords present in english language\n",
        "\n",
        "line 5 = afer line 4, this line joins all the words back"
      ]
    },
    {
      "cell_type": "code",
      "execution_count": 17,
      "metadata": {
        "id": "uRCprBfWG8FD"
      },
      "outputs": [],
      "source": [
        "def stemming(content):\n",
        "  stemmed_content = re.sub('[^a-zA-Z]', ' ', content)\n",
        "  stemmed_content = stemmed_content.lower()\n",
        "  stemmed_content = stemmed_content.split()\n",
        "  sremmed_content = [port_stem.stem(word) for word in stemmed_content if not word in stopwords.words('english')]\n",
        "  stemmed_content = ' '.join(stemmed_content)\n",
        "  return stemmed_content"
      ]
    },
    {
      "cell_type": "code",
      "execution_count": 18,
      "metadata": {
        "id": "sqBk5iCEy1uG"
      },
      "outputs": [],
      "source": [
        "news_train['content'] = news_train['content'].apply(stemming)"
      ]
    },
    {
      "cell_type": "code",
      "execution_count": 19,
      "metadata": {
        "colab": {
          "base_uri": "https://localhost:8080/"
        },
        "id": "AJmom3UI2pox",
        "outputId": "67ce5811-1388-4beb-ab93-c853c22a489a"
      },
      "outputs": [
        {
          "name": "stdout",
          "output_type": "stream",
          "text": [
            "0        darrell lucus house dem aide we didn t even se...\n",
            "1        daniel j flynn flynn hillary clinton big woman...\n",
            "2        consortiumnews com why the truth might get you...\n",
            "3        jessica purkiss civilians killed in single us ...\n",
            "4        howard portnoy iranian woman jailed for fictio...\n",
            "                               ...                        \n",
            "20795    jerome hudson rapper t i trump a poster child ...\n",
            "20796    benjamin hoffman n f l playoffs schedule match...\n",
            "20797    michael j de la merced and rachel abrams macy ...\n",
            "20798    alex ansary nato russia to hold parallel exerc...\n",
            "20799                 david swanson what keeps the f alive\n",
            "Name: content, Length: 20800, dtype: object\n"
          ]
        }
      ],
      "source": [
        "print(news_train['content'])"
      ]
    },
    {
      "cell_type": "code",
      "execution_count": 20,
      "metadata": {
        "id": "_AGGyvWN3jN6"
      },
      "outputs": [],
      "source": [
        "#seperating data and labels\n",
        "X = news_train['content'].values\n",
        "Y = news_train['label'].values"
      ]
    },
    {
      "cell_type": "code",
      "execution_count": 21,
      "metadata": {
        "colab": {
          "base_uri": "https://localhost:8080/"
        },
        "id": "4PntMwts4LoS",
        "outputId": "64fbb40a-5c64-4433-b341-2d0d221f1d02"
      },
      "outputs": [
        {
          "name": "stdout",
          "output_type": "stream",
          "text": [
            "['darrell lucus house dem aide we didn t even see comey s letter until jason chaffetz tweeted it'\n",
            " 'daniel j flynn flynn hillary clinton big woman on campus breitbart'\n",
            " 'consortiumnews com why the truth might get you fired' ...\n",
            " 'michael j de la merced and rachel abrams macy s is said to receive takeover approach by hudson s bay the new york times'\n",
            " 'alex ansary nato russia to hold parallel exercises in balkans'\n",
            " 'david swanson what keeps the f alive']\n"
          ]
        }
      ],
      "source": [
        "print(X)"
      ]
    },
    {
      "cell_type": "code",
      "execution_count": 22,
      "metadata": {
        "colab": {
          "base_uri": "https://localhost:8080/"
        },
        "id": "_e-062Vw4NHy",
        "outputId": "f1c9e088-c0c9-41c8-fc01-2cb100ba5872"
      },
      "outputs": [
        {
          "name": "stdout",
          "output_type": "stream",
          "text": [
            "[1 0 1 ... 0 1 1]\n"
          ]
        }
      ],
      "source": [
        "print(Y)"
      ]
    },
    {
      "cell_type": "code",
      "execution_count": 23,
      "metadata": {
        "id": "AO1uDVyg4PvW"
      },
      "outputs": [],
      "source": [
        "# converting textual data to numerical data Done for training the regression model\n",
        "# Tf = term frequency\n",
        "# idf = inverse documnet frequency   repeating words that doesn't have importance\n",
        "# this function is used for couting the number of times a word apperas in the data and the importance of the word\n",
        "vectorizer = TfidfVectorizer()\n",
        "vectorizer.fit(X)\n",
        "\n",
        "X = vectorizer.transform(X)"
      ]
    },
    {
      "cell_type": "code",
      "execution_count": 24,
      "metadata": {
        "colab": {
          "base_uri": "https://localhost:8080/"
        },
        "id": "T8E9vwaE5qrG",
        "outputId": "9642b398-33e2-4d6f-dd49-0ae976006987"
      },
      "outputs": [
        {
          "name": "stdout",
          "output_type": "stream",
          "text": [
            "  (0, 22799)\t0.18006628418201243\n",
            "  (0, 22093)\t0.2657547217665701\n",
            "  (0, 21737)\t0.3484096682234656\n",
            "  (0, 18603)\t0.22538156291100417\n",
            "  (0, 12368)\t0.3024246896410992\n",
            "  (0, 11983)\t0.24883580084136206\n",
            "  (0, 10863)\t0.20615338107008116\n",
            "  (0, 10760)\t0.15318017966160952\n",
            "  (0, 9846)\t0.18448937077363603\n",
            "  (0, 7052)\t0.2304743493560024\n",
            "  (0, 5649)\t0.2467735137762447\n",
            "  (0, 5302)\t0.25028059659920077\n",
            "  (0, 5010)\t0.2993451324113331\n",
            "  (0, 4013)\t0.20531564772935784\n",
            "  (0, 3362)\t0.3057979629237607\n",
            "  (0, 418)\t0.2635419649523391\n",
            "  (1, 23191)\t0.2966210296019264\n",
            "  (1, 14607)\t0.15862263711495958\n",
            "  (1, 9592)\t0.18787145765749733\n",
            "  (1, 7895)\t0.7045992054867243\n",
            "  (1, 4971)\t0.2624012615566619\n",
            "  (1, 3806)\t0.19024289659874757\n",
            "  (1, 3013)\t0.37751839443307017\n",
            "  (1, 2585)\t0.15310531118537438\n",
            "  (1, 2051)\t0.2899843833664323\n",
            "  :\t:\n",
            "  (20797, 11627)\t0.21659193986049335\n",
            "  (20797, 10714)\t0.12516633187998083\n",
            "  (20797, 9887)\t0.20792477683235197\n",
            "  (20797, 5061)\t0.20389975589596085\n",
            "  (20797, 2901)\t0.14456424605079038\n",
            "  (20797, 1780)\t0.31989436828531154\n",
            "  (20797, 984)\t0.29969673985755974\n",
            "  (20797, 746)\t0.0987242947097849\n",
            "  (20797, 59)\t0.28338371263237516\n",
            "  (20798, 21221)\t0.11012879273571911\n",
            "  (20798, 18067)\t0.21203810857283628\n",
            "  (20798, 15084)\t0.4330367731657488\n",
            "  (20798, 13942)\t0.302697668091279\n",
            "  (20798, 10221)\t0.12372667259693101\n",
            "  (20798, 9687)\t0.3360628776269571\n",
            "  (20798, 7154)\t0.4330367731657488\n",
            "  (20798, 1577)\t0.4330367731657488\n",
            "  (20798, 837)\t0.2956214782753605\n",
            "  (20798, 526)\t0.27034138578025346\n",
            "  (20799, 22936)\t0.3036883879058238\n",
            "  (20799, 21006)\t0.11435323534322306\n",
            "  (20799, 20546)\t0.5069780866279595\n",
            "  (20799, 11265)\t0.5156967065416901\n",
            "  (20799, 5039)\t0.3386739535864246\n",
            "  (20799, 559)\t0.5069780866279595\n"
          ]
        }
      ],
      "source": [
        "print(X)"
      ]
    },
    {
      "cell_type": "code",
      "execution_count": 25,
      "metadata": {
        "id": "jpSt6WgV6EyO"
      },
      "outputs": [],
      "source": [
        "X_train = X\n",
        "Y_train = news_train['label']"
      ]
    },
    {
      "cell_type": "code",
      "execution_count": 26,
      "metadata": {
        "colab": {
          "base_uri": "https://localhost:8080/"
        },
        "id": "OjuFSZfj8jRU",
        "outputId": "1d44da31-0876-431d-927a-1ea95377de28"
      },
      "outputs": [
        {
          "name": "stdout",
          "output_type": "stream",
          "text": [
            "  (0, 22799)\t0.18006628418201243\n",
            "  (0, 22093)\t0.2657547217665701\n",
            "  (0, 21737)\t0.3484096682234656\n",
            "  (0, 18603)\t0.22538156291100417\n",
            "  (0, 12368)\t0.3024246896410992\n",
            "  (0, 11983)\t0.24883580084136206\n",
            "  (0, 10863)\t0.20615338107008116\n",
            "  (0, 10760)\t0.15318017966160952\n",
            "  (0, 9846)\t0.18448937077363603\n",
            "  (0, 7052)\t0.2304743493560024\n",
            "  (0, 5649)\t0.2467735137762447\n",
            "  (0, 5302)\t0.25028059659920077\n",
            "  (0, 5010)\t0.2993451324113331\n",
            "  (0, 4013)\t0.20531564772935784\n",
            "  (0, 3362)\t0.3057979629237607\n",
            "  (0, 418)\t0.2635419649523391\n",
            "  (1, 23191)\t0.2966210296019264\n",
            "  (1, 14607)\t0.15862263711495958\n",
            "  (1, 9592)\t0.18787145765749733\n",
            "  (1, 7895)\t0.7045992054867243\n",
            "  (1, 4971)\t0.2624012615566619\n",
            "  (1, 3806)\t0.19024289659874757\n",
            "  (1, 3013)\t0.37751839443307017\n",
            "  (1, 2585)\t0.15310531118537438\n",
            "  (1, 2051)\t0.2899843833664323\n",
            "  :\t:\n",
            "  (20797, 11627)\t0.21659193986049335\n",
            "  (20797, 10714)\t0.12516633187998083\n",
            "  (20797, 9887)\t0.20792477683235197\n",
            "  (20797, 5061)\t0.20389975589596085\n",
            "  (20797, 2901)\t0.14456424605079038\n",
            "  (20797, 1780)\t0.31989436828531154\n",
            "  (20797, 984)\t0.29969673985755974\n",
            "  (20797, 746)\t0.0987242947097849\n",
            "  (20797, 59)\t0.28338371263237516\n",
            "  (20798, 21221)\t0.11012879273571911\n",
            "  (20798, 18067)\t0.21203810857283628\n",
            "  (20798, 15084)\t0.4330367731657488\n",
            "  (20798, 13942)\t0.302697668091279\n",
            "  (20798, 10221)\t0.12372667259693101\n",
            "  (20798, 9687)\t0.3360628776269571\n",
            "  (20798, 7154)\t0.4330367731657488\n",
            "  (20798, 1577)\t0.4330367731657488\n",
            "  (20798, 837)\t0.2956214782753605\n",
            "  (20798, 526)\t0.27034138578025346\n",
            "  (20799, 22936)\t0.3036883879058238\n",
            "  (20799, 21006)\t0.11435323534322306\n",
            "  (20799, 20546)\t0.5069780866279595\n",
            "  (20799, 11265)\t0.5156967065416901\n",
            "  (20799, 5039)\t0.3386739535864246\n",
            "  (20799, 559)\t0.5069780866279595\n"
          ]
        }
      ],
      "source": [
        "print(X_train)"
      ]
    },
    {
      "cell_type": "code",
      "execution_count": 27,
      "metadata": {
        "id": "u6zzUoHjCeBd"
      },
      "outputs": [],
      "source": [
        "X_train, X_test, Y_train, Y_test = train_test_split(X, Y, test_size = 0.5, stratify = Y, random_state = 2)"
      ]
    },
    {
      "cell_type": "code",
      "execution_count": 28,
      "metadata": {
        "colab": {
          "base_uri": "https://localhost:8080/",
          "height": 74
        },
        "id": "g5cgnJOn7jwT",
        "outputId": "5d6afc18-9fc6-44d6-b0ed-f68dff64c8ea"
      },
      "outputs": [
        {
          "data": {
            "text/html": [
              "<style>#sk-container-id-1 {color: black;}#sk-container-id-1 pre{padding: 0;}#sk-container-id-1 div.sk-toggleable {background-color: white;}#sk-container-id-1 label.sk-toggleable__label {cursor: pointer;display: block;width: 100%;margin-bottom: 0;padding: 0.3em;box-sizing: border-box;text-align: center;}#sk-container-id-1 label.sk-toggleable__label-arrow:before {content: \"▸\";float: left;margin-right: 0.25em;color: #696969;}#sk-container-id-1 label.sk-toggleable__label-arrow:hover:before {color: black;}#sk-container-id-1 div.sk-estimator:hover label.sk-toggleable__label-arrow:before {color: black;}#sk-container-id-1 div.sk-toggleable__content {max-height: 0;max-width: 0;overflow: hidden;text-align: left;background-color: #f0f8ff;}#sk-container-id-1 div.sk-toggleable__content pre {margin: 0.2em;color: black;border-radius: 0.25em;background-color: #f0f8ff;}#sk-container-id-1 input.sk-toggleable__control:checked~div.sk-toggleable__content {max-height: 200px;max-width: 100%;overflow: auto;}#sk-container-id-1 input.sk-toggleable__control:checked~label.sk-toggleable__label-arrow:before {content: \"▾\";}#sk-container-id-1 div.sk-estimator input.sk-toggleable__control:checked~label.sk-toggleable__label {background-color: #d4ebff;}#sk-container-id-1 div.sk-label input.sk-toggleable__control:checked~label.sk-toggleable__label {background-color: #d4ebff;}#sk-container-id-1 input.sk-hidden--visually {border: 0;clip: rect(1px 1px 1px 1px);clip: rect(1px, 1px, 1px, 1px);height: 1px;margin: -1px;overflow: hidden;padding: 0;position: absolute;width: 1px;}#sk-container-id-1 div.sk-estimator {font-family: monospace;background-color: #f0f8ff;border: 1px dotted black;border-radius: 0.25em;box-sizing: border-box;margin-bottom: 0.5em;}#sk-container-id-1 div.sk-estimator:hover {background-color: #d4ebff;}#sk-container-id-1 div.sk-parallel-item::after {content: \"\";width: 100%;border-bottom: 1px solid gray;flex-grow: 1;}#sk-container-id-1 div.sk-label:hover label.sk-toggleable__label {background-color: #d4ebff;}#sk-container-id-1 div.sk-serial::before {content: \"\";position: absolute;border-left: 1px solid gray;box-sizing: border-box;top: 0;bottom: 0;left: 50%;z-index: 0;}#sk-container-id-1 div.sk-serial {display: flex;flex-direction: column;align-items: center;background-color: white;padding-right: 0.2em;padding-left: 0.2em;position: relative;}#sk-container-id-1 div.sk-item {position: relative;z-index: 1;}#sk-container-id-1 div.sk-parallel {display: flex;align-items: stretch;justify-content: center;background-color: white;position: relative;}#sk-container-id-1 div.sk-item::before, #sk-container-id-1 div.sk-parallel-item::before {content: \"\";position: absolute;border-left: 1px solid gray;box-sizing: border-box;top: 0;bottom: 0;left: 50%;z-index: -1;}#sk-container-id-1 div.sk-parallel-item {display: flex;flex-direction: column;z-index: 1;position: relative;background-color: white;}#sk-container-id-1 div.sk-parallel-item:first-child::after {align-self: flex-end;width: 50%;}#sk-container-id-1 div.sk-parallel-item:last-child::after {align-self: flex-start;width: 50%;}#sk-container-id-1 div.sk-parallel-item:only-child::after {width: 0;}#sk-container-id-1 div.sk-dashed-wrapped {border: 1px dashed gray;margin: 0 0.4em 0.5em 0.4em;box-sizing: border-box;padding-bottom: 0.4em;background-color: white;}#sk-container-id-1 div.sk-label label {font-family: monospace;font-weight: bold;display: inline-block;line-height: 1.2em;}#sk-container-id-1 div.sk-label-container {text-align: center;}#sk-container-id-1 div.sk-container {/* jupyter's `normalize.less` sets `[hidden] { display: none; }` but bootstrap.min.css set `[hidden] { display: none !important; }` so we also need the `!important` here to be able to override the default hidden behavior on the sphinx rendered scikit-learn.org. See: https://github.com/scikit-learn/scikit-learn/issues/21755 */display: inline-block !important;position: relative;}#sk-container-id-1 div.sk-text-repr-fallback {display: none;}</style><div id=\"sk-container-id-1\" class=\"sk-top-container\"><div class=\"sk-text-repr-fallback\"><pre>LogisticRegression()</pre><b>In a Jupyter environment, please rerun this cell to show the HTML representation or trust the notebook. <br />On GitHub, the HTML representation is unable to render, please try loading this page with nbviewer.org.</b></div><div class=\"sk-container\" hidden><div class=\"sk-item\"><div class=\"sk-estimator sk-toggleable\"><input class=\"sk-toggleable__control sk-hidden--visually\" id=\"sk-estimator-id-1\" type=\"checkbox\" checked><label for=\"sk-estimator-id-1\" class=\"sk-toggleable__label sk-toggleable__label-arrow\">LogisticRegression</label><div class=\"sk-toggleable__content\"><pre>LogisticRegression()</pre></div></div></div></div></div>"
            ],
            "text/plain": [
              "LogisticRegression()"
            ]
          },
          "execution_count": 28,
          "metadata": {},
          "output_type": "execute_result"
        }
      ],
      "source": [
        "#Training the model = Logistic Regression Model\n",
        "model = LogisticRegression()\n",
        "model.fit(X_train, Y_train)"
      ]
    },
    {
      "cell_type": "markdown",
      "metadata": {
        "id": "wLWYxySq80tN"
      },
      "source": [
        "Accuracy score"
      ]
    },
    {
      "cell_type": "code",
      "execution_count": 29,
      "metadata": {
        "id": "bRbbyrxE8YVt"
      },
      "outputs": [],
      "source": [
        "#accuracy of the training data\n",
        "X_train_prediction = model.predict(X_train)\n",
        "train_accuracy = accuracy_score(X_train_prediction, Y_train)"
      ]
    },
    {
      "cell_type": "code",
      "execution_count": 30,
      "metadata": {
        "colab": {
          "base_uri": "https://localhost:8080/"
        },
        "id": "iixVLt9j9Rru",
        "outputId": "7c401b97-4a37-454d-fd3b-a237803fd6e4"
      },
      "outputs": [
        {
          "name": "stdout",
          "output_type": "stream",
          "text": [
            "Accuracy score of training data= 0.9832692307692308\n"
          ]
        }
      ],
      "source": [
        "print(\"Accuracy score of training data=\", + train_accuracy)"
      ]
    },
    {
      "cell_type": "code",
      "execution_count": 31,
      "metadata": {
        "id": "ZMAiNtY79VXJ"
      },
      "outputs": [],
      "source": [
        "X_test_prediction = model.predict(X_test)\n",
        "test_prediction = accuracy_score(X_test_prediction, Y_test)"
      ]
    },
    {
      "cell_type": "code",
      "execution_count": 32,
      "metadata": {
        "colab": {
          "base_uri": "https://localhost:8080/"
        },
        "id": "reletqH8DIEA",
        "outputId": "ca26b024-ef3b-484a-ecc7-eeb536769d7c"
      },
      "outputs": [
        {
          "name": "stdout",
          "output_type": "stream",
          "text": [
            "Accuracy_score for test data =  0.9657692307692308\n"
          ]
        }
      ],
      "source": [
        "print(\"Accuracy_score for test data = \",+ test_prediction)"
      ]
    },
    {
      "cell_type": "code",
      "execution_count": 33,
      "metadata": {
        "colab": {
          "base_uri": "https://localhost:8080/"
        },
        "id": "jVrI8XvWDQxh",
        "outputId": "e714577e-a922-422f-f950-bc8dd434e322"
      },
      "outputs": [
        {
          "name": "stdout",
          "output_type": "stream",
          "text": [
            "[1]\n",
            "News is fake\n"
          ]
        }
      ],
      "source": [
        "#making a prediction system\n",
        "news_predict = X_test[1]\n",
        "prediction = model.predict(news_predict)\n",
        "\n",
        "print(prediction)\n",
        "if(prediction[0] == 0):\n",
        "  print(\"News is real\")\n",
        "else:\n",
        "  print(\"News is fake\")"
      ]
    },
    {
      "cell_type": "code",
      "execution_count": 34,
      "metadata": {
        "colab": {
          "base_uri": "https://localhost:8080/"
        },
        "id": "6U5zayHgDq8E",
        "outputId": "1531cb71-ab10-4e50-ecc9-1c62ef5b6252"
      },
      "outputs": [
        {
          "name": "stdout",
          "output_type": "stream",
          "text": [
            "1\n"
          ]
        }
      ],
      "source": [
        "print(Y_test[1])"
      ]
    }
  ],
  "metadata": {
    "colab": {
      "authorship_tag": "ABX9TyOmNEsR3JTnQA5iFqy/qSEz",
      "include_colab_link": true,
      "provenance": []
    },
    "kernelspec": {
      "display_name": "Python 3",
      "name": "python3"
    },
    "language_info": {
      "codemirror_mode": {
        "name": "ipython",
        "version": 3
      },
      "file_extension": ".py",
      "mimetype": "text/x-python",
      "name": "python",
      "nbconvert_exporter": "python",
      "pygments_lexer": "ipython3",
      "version": "3.11.5"
    }
  },
  "nbformat": 4,
  "nbformat_minor": 0
}
